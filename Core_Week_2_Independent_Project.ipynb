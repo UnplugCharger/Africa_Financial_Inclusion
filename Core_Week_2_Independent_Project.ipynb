{
  "nbformat": 4,
  "nbformat_minor": 0,
  "metadata": {
    "colab": {
      "name": "Core_Week_2_Independent_Project",
      "provenance": [],
      "mount_file_id": "1K5Gys8efNbjhk_kQa4-8VT34ifRKW4zz",
      "authorship_tag": "ABX9TyOYgF9ijHQmuOKjZsgNsxA6",
      "include_colab_link": true
    },
    "kernelspec": {
      "name": "python3",
      "display_name": "Python 3"
    }
  },
  "cells": [
    {
      "cell_type": "markdown",
      "metadata": {
        "id": "view-in-github",
        "colab_type": "text"
      },
      "source": [
        "<a href=\"https://colab.research.google.com/github/UnplugCharger/Africa_Financial_Inclusion/blob/master/Core_Week_2_Independent_Project.ipynb\" target=\"_parent\"><img src=\"https://colab.research.google.com/assets/colab-badge.svg\" alt=\"Open In Colab\"/></a>"
      ]
    },
    {
      "cell_type": "markdown",
      "metadata": {
        "id": "PJVKv_lwPvzT",
        "colab_type": "text"
      },
      "source": [
        "# Question\n",
        "\n",
        "Financial Inclusion remains one of the main obstacles to economic and human development in Africa. For example, across Kenya, Rwanda, Tanzania, and Uganda only 9.1 million adults (or 13.9% of the adult population) have access to or use a commercial bank account.\n",
        "\n",
        "Traditionally, access to bank accounts has been regarded as an indicator of financial inclusion. Despite the proliferation of mobile money in Africa and the growth of innovative fintech solutions, banks still play a pivotal role in facilitating access to financial services. Access to bank accounts enables households to save and facilitate payments while also helping businesses build up their credit-worthiness and improve their access to other financial services. Therefore, access to bank accounts is an essential contributor to long-term economic growth.\n",
        "\n",
        "**The research problem is to figure out how we can predict which individuals are most likely to have or use a bank account.** Your solution will help provide an indication of the state of financial inclusion in Kenya, Rwanda, Tanzania, and Uganda, while providing insights into some of the key demographic factors that might drive individuals’ financial outcomes.\n",
        "\n",
        "In order to work on the above problem, you need to do the following:\n",
        "\n",
        "Define the question, the metric for success, the context, experimental design taken and the appropriateness of the available data to answer the given question\n",
        "Find and deal with outliers, anomalies, and missing data within the dataset.\n",
        "Perform univariate, bivariate and multivariate analysis recording your observations.\n",
        "Implement the solution by performing the respective analysis i.e. factor analysis, principal component analysis, and discriminant analysis.\n",
        "Challenge your solution by providing insights on how you can make improvements."
      ]
    },
    {
      "cell_type": "markdown",
      "metadata": {
        "id": "18Q7K6eSFIBU",
        "colab_type": "text"
      },
      "source": [
        "# Loading Libraries and Dataset"
      ]
    },
    {
      "cell_type": "code",
      "metadata": {
        "id": "sItm24xyGCO-",
        "colab_type": "code",
        "colab": {}
      },
      "source": [
        "import numpy as np\n",
        "import seaborn as sns\n",
        "import pandas as pd\n",
        "import matplotlib.pyplot as plt\n",
        "from sklearn.preprocessing import LabelEncoder, MinMaxScaler"
      ],
      "execution_count": 129,
      "outputs": []
    },
    {
      "cell_type": "code",
      "metadata": {
        "id": "hBMcQn94Hs66",
        "colab_type": "code",
        "colab": {}
      },
      "source": [
        "africa_financials=pd.read_csv('/content/drive/My Drive/Birds Dataset/Financial Dataset - 1.csv')"
      ],
      "execution_count": 130,
      "outputs": []
    },
    {
      "cell_type": "code",
      "metadata": {
        "id": "_hyUOY5sGqLt",
        "colab_type": "code",
        "colab": {}
      },
      "source": [
        "Variable_deffinitions=pd.read_csv('/content/drive/My Drive/Birds Dataset/VariableDefinitions (1).csv')"
      ],
      "execution_count": 131,
      "outputs": []
    },
    {
      "cell_type": "code",
      "metadata": {
        "id": "mUfe_vqU1cZG",
        "colab_type": "code",
        "colab": {
          "base_uri": "https://localhost:8080/",
          "height": 34
        },
        "outputId": "6b1fb6e7-8468-45df-ce78-1a639c762943"
      },
      "source": [
        "africa_financials.duplicated().sum()"
      ],
      "execution_count": 132,
      "outputs": [
        {
          "output_type": "execute_result",
          "data": {
            "text/plain": [
              "0"
            ]
          },
          "metadata": {
            "tags": []
          },
          "execution_count": 132
        }
      ]
    },
    {
      "cell_type": "markdown",
      "metadata": {
        "id": "_bM5f6ElHFq-",
        "colab_type": "text"
      },
      "source": [
        "Understanding the variables "
      ]
    },
    {
      "cell_type": "code",
      "metadata": {
        "id": "QSDgoL9GHML1",
        "colab_type": "code",
        "colab": {
          "base_uri": "https://localhost:8080/",
          "height": 216
        },
        "outputId": "e4015b2c-8053-4a46-87d0-f4ed50f94ff1"
      },
      "source": [
        "Variable_deffinitions.head(14).T"
      ],
      "execution_count": 133,
      "outputs": [
        {
          "output_type": "execute_result",
          "data": {
            "text/html": [
              "<div>\n",
              "<style scoped>\n",
              "    .dataframe tbody tr th:only-of-type {\n",
              "        vertical-align: middle;\n",
              "    }\n",
              "\n",
              "    .dataframe tbody tr th {\n",
              "        vertical-align: top;\n",
              "    }\n",
              "\n",
              "    .dataframe thead th {\n",
              "        text-align: right;\n",
              "    }\n",
              "</style>\n",
              "<table border=\"1\" class=\"dataframe\">\n",
              "  <thead>\n",
              "    <tr style=\"text-align: right;\">\n",
              "      <th></th>\n",
              "      <th>0</th>\n",
              "      <th>1</th>\n",
              "      <th>2</th>\n",
              "      <th>3</th>\n",
              "      <th>4</th>\n",
              "      <th>5</th>\n",
              "      <th>6</th>\n",
              "      <th>7</th>\n",
              "      <th>8</th>\n",
              "      <th>9</th>\n",
              "      <th>10</th>\n",
              "      <th>11</th>\n",
              "    </tr>\n",
              "  </thead>\n",
              "  <tbody>\n",
              "    <tr>\n",
              "      <th>Variable Definitions</th>\n",
              "      <td>country</td>\n",
              "      <td>year</td>\n",
              "      <td>uniqueid</td>\n",
              "      <td>location_type</td>\n",
              "      <td>cellphone_access</td>\n",
              "      <td>household_size</td>\n",
              "      <td>age_of_respondent</td>\n",
              "      <td>gender_of_respondent</td>\n",
              "      <td>relationship_with_head</td>\n",
              "      <td>marital_status</td>\n",
              "      <td>education_level</td>\n",
              "      <td>job_type</td>\n",
              "    </tr>\n",
              "    <tr>\n",
              "      <th>Unnamed: 1</th>\n",
              "      <td>Country interviewee is in.</td>\n",
              "      <td>Year survey was done in.</td>\n",
              "      <td>Unique identifier for each interviewee</td>\n",
              "      <td>Type of location: Rural, Urban</td>\n",
              "      <td>If interviewee has access to a cellphone: Yes, No</td>\n",
              "      <td>Number of people living in one house</td>\n",
              "      <td>The age of the interviewee</td>\n",
              "      <td>Gender of interviewee: Male, Female</td>\n",
              "      <td>The interviewee’s relationship with the head o...</td>\n",
              "      <td>The martial status of the interviewee: Married...</td>\n",
              "      <td>Highest level of education: No formal educatio...</td>\n",
              "      <td>Type of job interviewee has: Farming and Fishi...</td>\n",
              "    </tr>\n",
              "  </tbody>\n",
              "</table>\n",
              "</div>"
            ],
            "text/plain": [
              "                                               0  ...                                                 11\n",
              "Variable Definitions                     country  ...                                           job_type\n",
              "Unnamed: 1            Country interviewee is in.  ...  Type of job interviewee has: Farming and Fishi...\n",
              "\n",
              "[2 rows x 12 columns]"
            ]
          },
          "metadata": {
            "tags": []
          },
          "execution_count": 133
        }
      ]
    },
    {
      "cell_type": "markdown",
      "metadata": {
        "id": "DAArBulsFOCN",
        "colab_type": "text"
      },
      "source": [
        "# Previewing Dataset"
      ]
    },
    {
      "cell_type": "code",
      "metadata": {
        "id": "CxfClfOaJ11o",
        "colab_type": "code",
        "colab": {
          "base_uri": "https://localhost:8080/",
          "height": 34
        },
        "outputId": "ce46b320-51d8-4031-feb2-db703ad2462e"
      },
      "source": [
        "africa_financials.shape"
      ],
      "execution_count": 134,
      "outputs": [
        {
          "output_type": "execute_result",
          "data": {
            "text/plain": [
              "(23524, 13)"
            ]
          },
          "metadata": {
            "tags": []
          },
          "execution_count": 134
        }
      ]
    },
    {
      "cell_type": "code",
      "metadata": {
        "id": "iFIPmd5lJ8J0",
        "colab_type": "code",
        "colab": {
          "base_uri": "https://localhost:8080/",
          "height": 452
        },
        "outputId": "e01b6261-9a25-42a2-939b-5e64c4d73d49"
      },
      "source": [
        "africa_financials.head().T"
      ],
      "execution_count": 135,
      "outputs": [
        {
          "output_type": "execute_result",
          "data": {
            "text/html": [
              "<div>\n",
              "<style scoped>\n",
              "    .dataframe tbody tr th:only-of-type {\n",
              "        vertical-align: middle;\n",
              "    }\n",
              "\n",
              "    .dataframe tbody tr th {\n",
              "        vertical-align: top;\n",
              "    }\n",
              "\n",
              "    .dataframe thead th {\n",
              "        text-align: right;\n",
              "    }\n",
              "</style>\n",
              "<table border=\"1\" class=\"dataframe\">\n",
              "  <thead>\n",
              "    <tr style=\"text-align: right;\">\n",
              "      <th></th>\n",
              "      <th>0</th>\n",
              "      <th>1</th>\n",
              "      <th>2</th>\n",
              "      <th>3</th>\n",
              "      <th>4</th>\n",
              "    </tr>\n",
              "  </thead>\n",
              "  <tbody>\n",
              "    <tr>\n",
              "      <th>country</th>\n",
              "      <td>Kenya</td>\n",
              "      <td>Kenya</td>\n",
              "      <td>Kenya</td>\n",
              "      <td>Kenya</td>\n",
              "      <td>Kenya</td>\n",
              "    </tr>\n",
              "    <tr>\n",
              "      <th>year</th>\n",
              "      <td>2018</td>\n",
              "      <td>2018</td>\n",
              "      <td>2018</td>\n",
              "      <td>2018</td>\n",
              "      <td>2018</td>\n",
              "    </tr>\n",
              "    <tr>\n",
              "      <th>uniqueid</th>\n",
              "      <td>uniqueid_1</td>\n",
              "      <td>uniqueid_2</td>\n",
              "      <td>uniqueid_3</td>\n",
              "      <td>uniqueid_4</td>\n",
              "      <td>uniqueid_5</td>\n",
              "    </tr>\n",
              "    <tr>\n",
              "      <th>Has a Bank account</th>\n",
              "      <td>Yes</td>\n",
              "      <td>No</td>\n",
              "      <td>Yes</td>\n",
              "      <td>No</td>\n",
              "      <td>No</td>\n",
              "    </tr>\n",
              "    <tr>\n",
              "      <th>Type of Location</th>\n",
              "      <td>Rural</td>\n",
              "      <td>Rural</td>\n",
              "      <td>Urban</td>\n",
              "      <td>Rural</td>\n",
              "      <td>Urban</td>\n",
              "    </tr>\n",
              "    <tr>\n",
              "      <th>Cell Phone Access</th>\n",
              "      <td>Yes</td>\n",
              "      <td>No</td>\n",
              "      <td>Yes</td>\n",
              "      <td>Yes</td>\n",
              "      <td>No</td>\n",
              "    </tr>\n",
              "    <tr>\n",
              "      <th>household_size</th>\n",
              "      <td>3</td>\n",
              "      <td>5</td>\n",
              "      <td>5</td>\n",
              "      <td>5</td>\n",
              "      <td>8</td>\n",
              "    </tr>\n",
              "    <tr>\n",
              "      <th>Respondent Age</th>\n",
              "      <td>24</td>\n",
              "      <td>70</td>\n",
              "      <td>26</td>\n",
              "      <td>34</td>\n",
              "      <td>26</td>\n",
              "    </tr>\n",
              "    <tr>\n",
              "      <th>gender_of_respondent</th>\n",
              "      <td>Female</td>\n",
              "      <td>Female</td>\n",
              "      <td>Male</td>\n",
              "      <td>Female</td>\n",
              "      <td>Male</td>\n",
              "    </tr>\n",
              "    <tr>\n",
              "      <th>The relathip with head</th>\n",
              "      <td>Spouse</td>\n",
              "      <td>Head of Household</td>\n",
              "      <td>Other relative</td>\n",
              "      <td>Head of Household</td>\n",
              "      <td>Child</td>\n",
              "    </tr>\n",
              "    <tr>\n",
              "      <th>marital_status</th>\n",
              "      <td>Married/Living together</td>\n",
              "      <td>Widowed</td>\n",
              "      <td>Single/Never Married</td>\n",
              "      <td>Married/Living together</td>\n",
              "      <td>Single/Never Married</td>\n",
              "    </tr>\n",
              "    <tr>\n",
              "      <th>Level of Educuation</th>\n",
              "      <td>Secondary education</td>\n",
              "      <td>No formal education</td>\n",
              "      <td>Vocational/Specialised training</td>\n",
              "      <td>Primary education</td>\n",
              "      <td>Primary education</td>\n",
              "    </tr>\n",
              "    <tr>\n",
              "      <th>Type of Job</th>\n",
              "      <td>Self employed</td>\n",
              "      <td>Government Dependent</td>\n",
              "      <td>Self employed</td>\n",
              "      <td>Formally employed Private</td>\n",
              "      <td>Informally employed</td>\n",
              "    </tr>\n",
              "  </tbody>\n",
              "</table>\n",
              "</div>"
            ],
            "text/plain": [
              "                                              0  ...                     4\n",
              "country                                   Kenya  ...                 Kenya\n",
              "year                                       2018  ...                  2018\n",
              "uniqueid                             uniqueid_1  ...            uniqueid_5\n",
              "Has a Bank account                          Yes  ...                    No\n",
              "Type of Location                          Rural  ...                 Urban\n",
              "Cell Phone Access                           Yes  ...                    No\n",
              "household_size                                3  ...                     8\n",
              "Respondent Age                               24  ...                    26\n",
              "gender_of_respondent                     Female  ...                  Male\n",
              "The relathip with head                   Spouse  ...                 Child\n",
              "marital_status          Married/Living together  ...  Single/Never Married\n",
              "Level of Educuation         Secondary education  ...     Primary education\n",
              "Type of Job                       Self employed  ...   Informally employed\n",
              "\n",
              "[13 rows x 5 columns]"
            ]
          },
          "metadata": {
            "tags": []
          },
          "execution_count": 135
        }
      ]
    },
    {
      "cell_type": "code",
      "metadata": {
        "id": "UI6IcWlTKK_J",
        "colab_type": "code",
        "colab": {
          "base_uri": "https://localhost:8080/",
          "height": 452
        },
        "outputId": "b9711f8c-8e82-482b-ae95-0de034536999"
      },
      "source": [
        "africa_financials.tail().T"
      ],
      "execution_count": 136,
      "outputs": [
        {
          "output_type": "execute_result",
          "data": {
            "text/html": [
              "<div>\n",
              "<style scoped>\n",
              "    .dataframe tbody tr th:only-of-type {\n",
              "        vertical-align: middle;\n",
              "    }\n",
              "\n",
              "    .dataframe tbody tr th {\n",
              "        vertical-align: top;\n",
              "    }\n",
              "\n",
              "    .dataframe thead th {\n",
              "        text-align: right;\n",
              "    }\n",
              "</style>\n",
              "<table border=\"1\" class=\"dataframe\">\n",
              "  <thead>\n",
              "    <tr style=\"text-align: right;\">\n",
              "      <th></th>\n",
              "      <th>23519</th>\n",
              "      <th>23520</th>\n",
              "      <th>23521</th>\n",
              "      <th>23522</th>\n",
              "      <th>23523</th>\n",
              "    </tr>\n",
              "  </thead>\n",
              "  <tbody>\n",
              "    <tr>\n",
              "      <th>country</th>\n",
              "      <td>Uganda</td>\n",
              "      <td>Uganda</td>\n",
              "      <td>Uganda</td>\n",
              "      <td>Uganda</td>\n",
              "      <td>Uganda</td>\n",
              "    </tr>\n",
              "    <tr>\n",
              "      <th>year</th>\n",
              "      <td>2018</td>\n",
              "      <td>2018</td>\n",
              "      <td>2018</td>\n",
              "      <td>2018</td>\n",
              "      <td>2018</td>\n",
              "    </tr>\n",
              "    <tr>\n",
              "      <th>uniqueid</th>\n",
              "      <td>uniqueid_2113</td>\n",
              "      <td>uniqueid_2114</td>\n",
              "      <td>uniqueid_2115</td>\n",
              "      <td>uniqueid_2116</td>\n",
              "      <td>uniqueid_2117</td>\n",
              "    </tr>\n",
              "    <tr>\n",
              "      <th>Has a Bank account</th>\n",
              "      <td>No</td>\n",
              "      <td>No</td>\n",
              "      <td>No</td>\n",
              "      <td>No</td>\n",
              "      <td>No</td>\n",
              "    </tr>\n",
              "    <tr>\n",
              "      <th>Type of Location</th>\n",
              "      <td>Rural</td>\n",
              "      <td>Rural</td>\n",
              "      <td>Rural</td>\n",
              "      <td>Urban</td>\n",
              "      <td>Rural</td>\n",
              "    </tr>\n",
              "    <tr>\n",
              "      <th>Cell Phone Access</th>\n",
              "      <td>Yes</td>\n",
              "      <td>Yes</td>\n",
              "      <td>Yes</td>\n",
              "      <td>Yes</td>\n",
              "      <td>Yes</td>\n",
              "    </tr>\n",
              "    <tr>\n",
              "      <th>household_size</th>\n",
              "      <td>4</td>\n",
              "      <td>2</td>\n",
              "      <td>5</td>\n",
              "      <td>7</td>\n",
              "      <td>10</td>\n",
              "    </tr>\n",
              "    <tr>\n",
              "      <th>Respondent Age</th>\n",
              "      <td>48</td>\n",
              "      <td>27</td>\n",
              "      <td>27</td>\n",
              "      <td>30</td>\n",
              "      <td>20</td>\n",
              "    </tr>\n",
              "    <tr>\n",
              "      <th>gender_of_respondent</th>\n",
              "      <td>Female</td>\n",
              "      <td>Female</td>\n",
              "      <td>Female</td>\n",
              "      <td>Female</td>\n",
              "      <td>Male</td>\n",
              "    </tr>\n",
              "    <tr>\n",
              "      <th>The relathip with head</th>\n",
              "      <td>Head of Household</td>\n",
              "      <td>Head of Household</td>\n",
              "      <td>Parent</td>\n",
              "      <td>Parent</td>\n",
              "      <td>Child</td>\n",
              "    </tr>\n",
              "    <tr>\n",
              "      <th>marital_status</th>\n",
              "      <td>Divorced/Seperated</td>\n",
              "      <td>Single/Never Married</td>\n",
              "      <td>Widowed</td>\n",
              "      <td>Divorced/Seperated</td>\n",
              "      <td>Single/Never Married</td>\n",
              "    </tr>\n",
              "    <tr>\n",
              "      <th>Level of Educuation</th>\n",
              "      <td>No formal education</td>\n",
              "      <td>Secondary education</td>\n",
              "      <td>Primary education</td>\n",
              "      <td>Secondary education</td>\n",
              "      <td>Secondary education</td>\n",
              "    </tr>\n",
              "    <tr>\n",
              "      <th>Type of Job</th>\n",
              "      <td>Other Income</td>\n",
              "      <td>Other Income</td>\n",
              "      <td>Other Income</td>\n",
              "      <td>Self employed</td>\n",
              "      <td>No Income</td>\n",
              "    </tr>\n",
              "  </tbody>\n",
              "</table>\n",
              "</div>"
            ],
            "text/plain": [
              "                                      23519  ...                 23523\n",
              "country                              Uganda  ...                Uganda\n",
              "year                                   2018  ...                  2018\n",
              "uniqueid                      uniqueid_2113  ...         uniqueid_2117\n",
              "Has a Bank account                       No  ...                    No\n",
              "Type of Location                      Rural  ...                 Rural\n",
              "Cell Phone Access                       Yes  ...                   Yes\n",
              "household_size                            4  ...                    10\n",
              "Respondent Age                           48  ...                    20\n",
              "gender_of_respondent                 Female  ...                  Male\n",
              "The relathip with head    Head of Household  ...                 Child\n",
              "marital_status           Divorced/Seperated  ...  Single/Never Married\n",
              "Level of Educuation     No formal education  ...   Secondary education\n",
              "Type of Job                    Other Income  ...             No Income\n",
              "\n",
              "[13 rows x 5 columns]"
            ]
          },
          "metadata": {
            "tags": []
          },
          "execution_count": 136
        }
      ]
    },
    {
      "cell_type": "markdown",
      "metadata": {
        "id": "-A941MaacG1l",
        "colab_type": "text"
      },
      "source": [
        "Renaming the columns "
      ]
    },
    {
      "cell_type": "code",
      "metadata": {
        "id": "3R2mGBPGcGYR",
        "colab_type": "code",
        "colab": {}
      },
      "source": [
        "africa_financials.rename(columns={'Type of Job':'type_of_job','Level of Educuation':'level_of_education',\n",
        "                                  'Cell Phone Access':'cellphone_access','Type of Location':'location_type',\n",
        "                                  'Has a Bank account':'bank_account',\n",
        "                                  'The relathip with head':'relationship_with_head','Respondent Age':'respondent_age'},inplace=True)"
      ],
      "execution_count": 137,
      "outputs": []
    },
    {
      "cell_type": "code",
      "metadata": {
        "id": "VPWkjSEVelJF",
        "colab_type": "code",
        "colab": {
          "base_uri": "https://localhost:8080/",
          "height": 452
        },
        "outputId": "23df53bf-6d43-4837-9a5b-4157d3054260"
      },
      "source": [
        "africa_financials.head().T"
      ],
      "execution_count": 138,
      "outputs": [
        {
          "output_type": "execute_result",
          "data": {
            "text/html": [
              "<div>\n",
              "<style scoped>\n",
              "    .dataframe tbody tr th:only-of-type {\n",
              "        vertical-align: middle;\n",
              "    }\n",
              "\n",
              "    .dataframe tbody tr th {\n",
              "        vertical-align: top;\n",
              "    }\n",
              "\n",
              "    .dataframe thead th {\n",
              "        text-align: right;\n",
              "    }\n",
              "</style>\n",
              "<table border=\"1\" class=\"dataframe\">\n",
              "  <thead>\n",
              "    <tr style=\"text-align: right;\">\n",
              "      <th></th>\n",
              "      <th>0</th>\n",
              "      <th>1</th>\n",
              "      <th>2</th>\n",
              "      <th>3</th>\n",
              "      <th>4</th>\n",
              "    </tr>\n",
              "  </thead>\n",
              "  <tbody>\n",
              "    <tr>\n",
              "      <th>country</th>\n",
              "      <td>Kenya</td>\n",
              "      <td>Kenya</td>\n",
              "      <td>Kenya</td>\n",
              "      <td>Kenya</td>\n",
              "      <td>Kenya</td>\n",
              "    </tr>\n",
              "    <tr>\n",
              "      <th>year</th>\n",
              "      <td>2018</td>\n",
              "      <td>2018</td>\n",
              "      <td>2018</td>\n",
              "      <td>2018</td>\n",
              "      <td>2018</td>\n",
              "    </tr>\n",
              "    <tr>\n",
              "      <th>uniqueid</th>\n",
              "      <td>uniqueid_1</td>\n",
              "      <td>uniqueid_2</td>\n",
              "      <td>uniqueid_3</td>\n",
              "      <td>uniqueid_4</td>\n",
              "      <td>uniqueid_5</td>\n",
              "    </tr>\n",
              "    <tr>\n",
              "      <th>bank_account</th>\n",
              "      <td>Yes</td>\n",
              "      <td>No</td>\n",
              "      <td>Yes</td>\n",
              "      <td>No</td>\n",
              "      <td>No</td>\n",
              "    </tr>\n",
              "    <tr>\n",
              "      <th>location_type</th>\n",
              "      <td>Rural</td>\n",
              "      <td>Rural</td>\n",
              "      <td>Urban</td>\n",
              "      <td>Rural</td>\n",
              "      <td>Urban</td>\n",
              "    </tr>\n",
              "    <tr>\n",
              "      <th>cellphone_access</th>\n",
              "      <td>Yes</td>\n",
              "      <td>No</td>\n",
              "      <td>Yes</td>\n",
              "      <td>Yes</td>\n",
              "      <td>No</td>\n",
              "    </tr>\n",
              "    <tr>\n",
              "      <th>household_size</th>\n",
              "      <td>3</td>\n",
              "      <td>5</td>\n",
              "      <td>5</td>\n",
              "      <td>5</td>\n",
              "      <td>8</td>\n",
              "    </tr>\n",
              "    <tr>\n",
              "      <th>respondent_age</th>\n",
              "      <td>24</td>\n",
              "      <td>70</td>\n",
              "      <td>26</td>\n",
              "      <td>34</td>\n",
              "      <td>26</td>\n",
              "    </tr>\n",
              "    <tr>\n",
              "      <th>gender_of_respondent</th>\n",
              "      <td>Female</td>\n",
              "      <td>Female</td>\n",
              "      <td>Male</td>\n",
              "      <td>Female</td>\n",
              "      <td>Male</td>\n",
              "    </tr>\n",
              "    <tr>\n",
              "      <th>relationship_with_head</th>\n",
              "      <td>Spouse</td>\n",
              "      <td>Head of Household</td>\n",
              "      <td>Other relative</td>\n",
              "      <td>Head of Household</td>\n",
              "      <td>Child</td>\n",
              "    </tr>\n",
              "    <tr>\n",
              "      <th>marital_status</th>\n",
              "      <td>Married/Living together</td>\n",
              "      <td>Widowed</td>\n",
              "      <td>Single/Never Married</td>\n",
              "      <td>Married/Living together</td>\n",
              "      <td>Single/Never Married</td>\n",
              "    </tr>\n",
              "    <tr>\n",
              "      <th>level_of_education</th>\n",
              "      <td>Secondary education</td>\n",
              "      <td>No formal education</td>\n",
              "      <td>Vocational/Specialised training</td>\n",
              "      <td>Primary education</td>\n",
              "      <td>Primary education</td>\n",
              "    </tr>\n",
              "    <tr>\n",
              "      <th>type_of_job</th>\n",
              "      <td>Self employed</td>\n",
              "      <td>Government Dependent</td>\n",
              "      <td>Self employed</td>\n",
              "      <td>Formally employed Private</td>\n",
              "      <td>Informally employed</td>\n",
              "    </tr>\n",
              "  </tbody>\n",
              "</table>\n",
              "</div>"
            ],
            "text/plain": [
              "                                              0  ...                     4\n",
              "country                                   Kenya  ...                 Kenya\n",
              "year                                       2018  ...                  2018\n",
              "uniqueid                             uniqueid_1  ...            uniqueid_5\n",
              "bank_account                                Yes  ...                    No\n",
              "location_type                             Rural  ...                 Urban\n",
              "cellphone_access                            Yes  ...                    No\n",
              "household_size                                3  ...                     8\n",
              "respondent_age                               24  ...                    26\n",
              "gender_of_respondent                     Female  ...                  Male\n",
              "relationship_with_head                   Spouse  ...                 Child\n",
              "marital_status          Married/Living together  ...  Single/Never Married\n",
              "level_of_education          Secondary education  ...     Primary education\n",
              "type_of_job                       Self employed  ...   Informally employed\n",
              "\n",
              "[13 rows x 5 columns]"
            ]
          },
          "metadata": {
            "tags": []
          },
          "execution_count": 138
        }
      ]
    },
    {
      "cell_type": "code",
      "metadata": {
        "id": "f_nccFiQKWkm",
        "colab_type": "code",
        "colab": {
          "base_uri": "https://localhost:8080/",
          "height": 142
        },
        "outputId": "2b2ae504-f34f-40bb-9afb-642b5912fffa"
      },
      "source": [
        "africa_financials.describe().T"
      ],
      "execution_count": 139,
      "outputs": [
        {
          "output_type": "execute_result",
          "data": {
            "text/html": [
              "<div>\n",
              "<style scoped>\n",
              "    .dataframe tbody tr th:only-of-type {\n",
              "        vertical-align: middle;\n",
              "    }\n",
              "\n",
              "    .dataframe tbody tr th {\n",
              "        vertical-align: top;\n",
              "    }\n",
              "\n",
              "    .dataframe thead th {\n",
              "        text-align: right;\n",
              "    }\n",
              "</style>\n",
              "<table border=\"1\" class=\"dataframe\">\n",
              "  <thead>\n",
              "    <tr style=\"text-align: right;\">\n",
              "      <th></th>\n",
              "      <th>count</th>\n",
              "      <th>mean</th>\n",
              "      <th>std</th>\n",
              "      <th>min</th>\n",
              "      <th>25%</th>\n",
              "      <th>50%</th>\n",
              "      <th>75%</th>\n",
              "      <th>max</th>\n",
              "    </tr>\n",
              "  </thead>\n",
              "  <tbody>\n",
              "    <tr>\n",
              "      <th>year</th>\n",
              "      <td>23524.0</td>\n",
              "      <td>2016.979000</td>\n",
              "      <td>0.899669</td>\n",
              "      <td>2016.0</td>\n",
              "      <td>2016.0</td>\n",
              "      <td>2017.0</td>\n",
              "      <td>2018.0</td>\n",
              "      <td>2056.0</td>\n",
              "    </tr>\n",
              "    <tr>\n",
              "      <th>household_size</th>\n",
              "      <td>23496.0</td>\n",
              "      <td>3.681818</td>\n",
              "      <td>2.279933</td>\n",
              "      <td>0.0</td>\n",
              "      <td>2.0</td>\n",
              "      <td>3.0</td>\n",
              "      <td>5.0</td>\n",
              "      <td>21.0</td>\n",
              "    </tr>\n",
              "    <tr>\n",
              "      <th>respondent_age</th>\n",
              "      <td>23490.0</td>\n",
              "      <td>38.804300</td>\n",
              "      <td>16.519996</td>\n",
              "      <td>16.0</td>\n",
              "      <td>26.0</td>\n",
              "      <td>35.0</td>\n",
              "      <td>49.0</td>\n",
              "      <td>100.0</td>\n",
              "    </tr>\n",
              "  </tbody>\n",
              "</table>\n",
              "</div>"
            ],
            "text/plain": [
              "                  count         mean        std  ...     50%     75%     max\n",
              "year            23524.0  2016.979000   0.899669  ...  2017.0  2018.0  2056.0\n",
              "household_size  23496.0     3.681818   2.279933  ...     3.0     5.0    21.0\n",
              "respondent_age  23490.0    38.804300  16.519996  ...    35.0    49.0   100.0\n",
              "\n",
              "[3 rows x 8 columns]"
            ]
          },
          "metadata": {
            "tags": []
          },
          "execution_count": 139
        }
      ]
    },
    {
      "cell_type": "code",
      "metadata": {
        "id": "5f06J3qkPLav",
        "colab_type": "code",
        "colab": {
          "base_uri": "https://localhost:8080/",
          "height": 452
        },
        "outputId": "bf5b56b3-0da3-4698-cd9e-79055623c706"
      },
      "source": [
        "africa_financials.describe(include='all').T"
      ],
      "execution_count": 140,
      "outputs": [
        {
          "output_type": "execute_result",
          "data": {
            "text/html": [
              "<div>\n",
              "<style scoped>\n",
              "    .dataframe tbody tr th:only-of-type {\n",
              "        vertical-align: middle;\n",
              "    }\n",
              "\n",
              "    .dataframe tbody tr th {\n",
              "        vertical-align: top;\n",
              "    }\n",
              "\n",
              "    .dataframe thead th {\n",
              "        text-align: right;\n",
              "    }\n",
              "</style>\n",
              "<table border=\"1\" class=\"dataframe\">\n",
              "  <thead>\n",
              "    <tr style=\"text-align: right;\">\n",
              "      <th></th>\n",
              "      <th>count</th>\n",
              "      <th>unique</th>\n",
              "      <th>top</th>\n",
              "      <th>freq</th>\n",
              "      <th>mean</th>\n",
              "      <th>std</th>\n",
              "      <th>min</th>\n",
              "      <th>25%</th>\n",
              "      <th>50%</th>\n",
              "      <th>75%</th>\n",
              "      <th>max</th>\n",
              "    </tr>\n",
              "  </thead>\n",
              "  <tbody>\n",
              "    <tr>\n",
              "      <th>country</th>\n",
              "      <td>23510</td>\n",
              "      <td>4</td>\n",
              "      <td>Rwanda</td>\n",
              "      <td>8735</td>\n",
              "      <td>NaN</td>\n",
              "      <td>NaN</td>\n",
              "      <td>NaN</td>\n",
              "      <td>NaN</td>\n",
              "      <td>NaN</td>\n",
              "      <td>NaN</td>\n",
              "      <td>NaN</td>\n",
              "    </tr>\n",
              "    <tr>\n",
              "      <th>year</th>\n",
              "      <td>23524</td>\n",
              "      <td>NaN</td>\n",
              "      <td>NaN</td>\n",
              "      <td>NaN</td>\n",
              "      <td>2016.98</td>\n",
              "      <td>0.899669</td>\n",
              "      <td>2016</td>\n",
              "      <td>2016</td>\n",
              "      <td>2017</td>\n",
              "      <td>2018</td>\n",
              "      <td>2056</td>\n",
              "    </tr>\n",
              "    <tr>\n",
              "      <th>uniqueid</th>\n",
              "      <td>23524</td>\n",
              "      <td>8735</td>\n",
              "      <td>uniqueid_1790</td>\n",
              "      <td>4</td>\n",
              "      <td>NaN</td>\n",
              "      <td>NaN</td>\n",
              "      <td>NaN</td>\n",
              "      <td>NaN</td>\n",
              "      <td>NaN</td>\n",
              "      <td>NaN</td>\n",
              "      <td>NaN</td>\n",
              "    </tr>\n",
              "    <tr>\n",
              "      <th>bank_account</th>\n",
              "      <td>23488</td>\n",
              "      <td>2</td>\n",
              "      <td>No</td>\n",
              "      <td>20179</td>\n",
              "      <td>NaN</td>\n",
              "      <td>NaN</td>\n",
              "      <td>NaN</td>\n",
              "      <td>NaN</td>\n",
              "      <td>NaN</td>\n",
              "      <td>NaN</td>\n",
              "      <td>NaN</td>\n",
              "    </tr>\n",
              "    <tr>\n",
              "      <th>location_type</th>\n",
              "      <td>23509</td>\n",
              "      <td>2</td>\n",
              "      <td>Rural</td>\n",
              "      <td>14338</td>\n",
              "      <td>NaN</td>\n",
              "      <td>NaN</td>\n",
              "      <td>NaN</td>\n",
              "      <td>NaN</td>\n",
              "      <td>NaN</td>\n",
              "      <td>NaN</td>\n",
              "      <td>NaN</td>\n",
              "    </tr>\n",
              "    <tr>\n",
              "      <th>cellphone_access</th>\n",
              "      <td>23513</td>\n",
              "      <td>2</td>\n",
              "      <td>Yes</td>\n",
              "      <td>17449</td>\n",
              "      <td>NaN</td>\n",
              "      <td>NaN</td>\n",
              "      <td>NaN</td>\n",
              "      <td>NaN</td>\n",
              "      <td>NaN</td>\n",
              "      <td>NaN</td>\n",
              "      <td>NaN</td>\n",
              "    </tr>\n",
              "    <tr>\n",
              "      <th>household_size</th>\n",
              "      <td>23496</td>\n",
              "      <td>NaN</td>\n",
              "      <td>NaN</td>\n",
              "      <td>NaN</td>\n",
              "      <td>3.68182</td>\n",
              "      <td>2.27993</td>\n",
              "      <td>0</td>\n",
              "      <td>2</td>\n",
              "      <td>3</td>\n",
              "      <td>5</td>\n",
              "      <td>21</td>\n",
              "    </tr>\n",
              "    <tr>\n",
              "      <th>respondent_age</th>\n",
              "      <td>23490</td>\n",
              "      <td>NaN</td>\n",
              "      <td>NaN</td>\n",
              "      <td>NaN</td>\n",
              "      <td>38.8043</td>\n",
              "      <td>16.52</td>\n",
              "      <td>16</td>\n",
              "      <td>26</td>\n",
              "      <td>35</td>\n",
              "      <td>49</td>\n",
              "      <td>100</td>\n",
              "    </tr>\n",
              "    <tr>\n",
              "      <th>gender_of_respondent</th>\n",
              "      <td>23490</td>\n",
              "      <td>2</td>\n",
              "      <td>Female</td>\n",
              "      <td>13859</td>\n",
              "      <td>NaN</td>\n",
              "      <td>NaN</td>\n",
              "      <td>NaN</td>\n",
              "      <td>NaN</td>\n",
              "      <td>NaN</td>\n",
              "      <td>NaN</td>\n",
              "      <td>NaN</td>\n",
              "    </tr>\n",
              "    <tr>\n",
              "      <th>relationship_with_head</th>\n",
              "      <td>23520</td>\n",
              "      <td>6</td>\n",
              "      <td>Head of Household</td>\n",
              "      <td>12829</td>\n",
              "      <td>NaN</td>\n",
              "      <td>NaN</td>\n",
              "      <td>NaN</td>\n",
              "      <td>NaN</td>\n",
              "      <td>NaN</td>\n",
              "      <td>NaN</td>\n",
              "      <td>NaN</td>\n",
              "    </tr>\n",
              "    <tr>\n",
              "      <th>marital_status</th>\n",
              "      <td>23492</td>\n",
              "      <td>5</td>\n",
              "      <td>Married/Living together</td>\n",
              "      <td>10739</td>\n",
              "      <td>NaN</td>\n",
              "      <td>NaN</td>\n",
              "      <td>NaN</td>\n",
              "      <td>NaN</td>\n",
              "      <td>NaN</td>\n",
              "      <td>NaN</td>\n",
              "      <td>NaN</td>\n",
              "    </tr>\n",
              "    <tr>\n",
              "      <th>level_of_education</th>\n",
              "      <td>23495</td>\n",
              "      <td>7</td>\n",
              "      <td>Primary education</td>\n",
              "      <td>12775</td>\n",
              "      <td>NaN</td>\n",
              "      <td>NaN</td>\n",
              "      <td>NaN</td>\n",
              "      <td>NaN</td>\n",
              "      <td>NaN</td>\n",
              "      <td>NaN</td>\n",
              "      <td>NaN</td>\n",
              "    </tr>\n",
              "    <tr>\n",
              "      <th>type_of_job</th>\n",
              "      <td>23494</td>\n",
              "      <td>10</td>\n",
              "      <td>Self employed</td>\n",
              "      <td>6428</td>\n",
              "      <td>NaN</td>\n",
              "      <td>NaN</td>\n",
              "      <td>NaN</td>\n",
              "      <td>NaN</td>\n",
              "      <td>NaN</td>\n",
              "      <td>NaN</td>\n",
              "      <td>NaN</td>\n",
              "    </tr>\n",
              "  </tbody>\n",
              "</table>\n",
              "</div>"
            ],
            "text/plain": [
              "                        count unique                      top  ...   50%   75%   max\n",
              "country                 23510      4                   Rwanda  ...   NaN   NaN   NaN\n",
              "year                    23524    NaN                      NaN  ...  2017  2018  2056\n",
              "uniqueid                23524   8735            uniqueid_1790  ...   NaN   NaN   NaN\n",
              "bank_account            23488      2                       No  ...   NaN   NaN   NaN\n",
              "location_type           23509      2                    Rural  ...   NaN   NaN   NaN\n",
              "cellphone_access        23513      2                      Yes  ...   NaN   NaN   NaN\n",
              "household_size          23496    NaN                      NaN  ...     3     5    21\n",
              "respondent_age          23490    NaN                      NaN  ...    35    49   100\n",
              "gender_of_respondent    23490      2                   Female  ...   NaN   NaN   NaN\n",
              "relationship_with_head  23520      6        Head of Household  ...   NaN   NaN   NaN\n",
              "marital_status          23492      5  Married/Living together  ...   NaN   NaN   NaN\n",
              "level_of_education      23495      7        Primary education  ...   NaN   NaN   NaN\n",
              "type_of_job             23494     10            Self employed  ...   NaN   NaN   NaN\n",
              "\n",
              "[13 rows x 11 columns]"
            ]
          },
          "metadata": {
            "tags": []
          },
          "execution_count": 140
        }
      ]
    },
    {
      "cell_type": "markdown",
      "metadata": {
        "id": "Jm5mGLliKvD1",
        "colab_type": "text"
      },
      "source": [
        "**a summary of our dataset**"
      ]
    },
    {
      "cell_type": "markdown",
      "metadata": {
        "id": "yXUfTGE9PX2_",
        "colab_type": "text"
      },
      "source": [
        "*Definning a function that will look deeper into our dataset*\n"
      ]
    },
    {
      "cell_type": "code",
      "metadata": {
        "id": "I7JgOUdKltY7",
        "colab_type": "code",
        "colab": {
          "base_uri": "https://localhost:8080/",
          "height": 374
        },
        "outputId": "99839e36-bb87-43e5-f69c-0eddc4c10ae3"
      },
      "source": [
        "#visualising missing values\n",
        "sns.heatmap(africa_financials.isnull(), cbar=True)\n",
        "plt.show()"
      ],
      "execution_count": 141,
      "outputs": [
        {
          "output_type": "display_data",
          "data": {
            "image/png": "[encoded data removed]",
            "text/plain": [
              "<Figure size 432x288 with 2 Axes>"
            ]
          },
          "metadata": {
            "tags": [],
            "needs_background": "light"
          }
        }
      ]
    },
    {
      "cell_type": "markdown",
      "metadata": {
        "id": "Gk7cEookxK4p",
        "colab_type": "text"
      },
      "source": [
        "We have missing values  in the marital status column,  cell phone access,type of location and Has a bank account columns\n"
      ]
    },
    {
      "cell_type": "code",
      "metadata": {
        "id": "Lw0oZj91KyuG",
        "colab_type": "code",
        "colab": {}
      },
      "source": [
        "def look_deeper(df):\n",
        "    with pd.option_context(\"display.max_colwidth\", 20):\n",
        "        info = pd.DataFrame()\n",
        "        info['sample'] = df.iloc[20]\n",
        "        info['data type'] = df.dtypes\n",
        "        info['percent missing'] = df.isnull().sum()*100/len(df)\n",
        "        info['percentage duplicates']= df.duplicated().sum()*100/len(df)\n",
        "        return info.sort_values('data type')"
      ],
      "execution_count": 142,
      "outputs": []
    },
    {
      "cell_type": "code",
      "metadata": {
        "id": "ZJrQ-RrCLEA9",
        "colab_type": "code",
        "colab": {
          "base_uri": "https://localhost:8080/",
          "height": 452
        },
        "outputId": "a7981c98-4cd8-4eec-d702-b52798a8fc11"
      },
      "source": [
        "\n",
        "look_deeper(africa_financials)"
      ],
      "execution_count": 143,
      "outputs": [
        {
          "output_type": "execute_result",
          "data": {
            "text/html": [
              "<div>\n",
              "<style scoped>\n",
              "    .dataframe tbody tr th:only-of-type {\n",
              "        vertical-align: middle;\n",
              "    }\n",
              "\n",
              "    .dataframe tbody tr th {\n",
              "        vertical-align: top;\n",
              "    }\n",
              "\n",
              "    .dataframe thead th {\n",
              "        text-align: right;\n",
              "    }\n",
              "</style>\n",
              "<table border=\"1\" class=\"dataframe\">\n",
              "  <thead>\n",
              "    <tr style=\"text-align: right;\">\n",
              "      <th></th>\n",
              "      <th>sample</th>\n",
              "      <th>data type</th>\n",
              "      <th>percent missing</th>\n",
              "      <th>percentage duplicates</th>\n",
              "    </tr>\n",
              "  </thead>\n",
              "  <tbody>\n",
              "    <tr>\n",
              "      <th>year</th>\n",
              "      <td>2018</td>\n",
              "      <td>int64</td>\n",
              "      <td>0.000000</td>\n",
              "      <td>0.0</td>\n",
              "    </tr>\n",
              "    <tr>\n",
              "      <th>household_size</th>\n",
              "      <td>4</td>\n",
              "      <td>float64</td>\n",
              "      <td>0.119027</td>\n",
              "      <td>0.0</td>\n",
              "    </tr>\n",
              "    <tr>\n",
              "      <th>respondent_age</th>\n",
              "      <td>26</td>\n",
              "      <td>float64</td>\n",
              "      <td>0.144533</td>\n",
              "      <td>0.0</td>\n",
              "    </tr>\n",
              "    <tr>\n",
              "      <th>country</th>\n",
              "      <td>Kenya</td>\n",
              "      <td>object</td>\n",
              "      <td>0.059514</td>\n",
              "      <td>0.0</td>\n",
              "    </tr>\n",
              "    <tr>\n",
              "      <th>uniqueid</th>\n",
              "      <td>uniqueid_21</td>\n",
              "      <td>object</td>\n",
              "      <td>0.000000</td>\n",
              "      <td>0.0</td>\n",
              "    </tr>\n",
              "    <tr>\n",
              "      <th>bank_account</th>\n",
              "      <td>No</td>\n",
              "      <td>object</td>\n",
              "      <td>0.153035</td>\n",
              "      <td>0.0</td>\n",
              "    </tr>\n",
              "    <tr>\n",
              "      <th>location_type</th>\n",
              "      <td>Rural</td>\n",
              "      <td>object</td>\n",
              "      <td>0.063765</td>\n",
              "      <td>0.0</td>\n",
              "    </tr>\n",
              "    <tr>\n",
              "      <th>cellphone_access</th>\n",
              "      <td>Yes</td>\n",
              "      <td>object</td>\n",
              "      <td>0.046761</td>\n",
              "      <td>0.0</td>\n",
              "    </tr>\n",
              "    <tr>\n",
              "      <th>gender_of_respondent</th>\n",
              "      <td>Male</td>\n",
              "      <td>object</td>\n",
              "      <td>0.144533</td>\n",
              "      <td>0.0</td>\n",
              "    </tr>\n",
              "    <tr>\n",
              "      <th>relationship_with_head</th>\n",
              "      <td>Head of Household</td>\n",
              "      <td>object</td>\n",
              "      <td>0.017004</td>\n",
              "      <td>0.0</td>\n",
              "    </tr>\n",
              "    <tr>\n",
              "      <th>marital_status</th>\n",
              "      <td>Married/Living together</td>\n",
              "      <td>object</td>\n",
              "      <td>0.136031</td>\n",
              "      <td>0.0</td>\n",
              "    </tr>\n",
              "    <tr>\n",
              "      <th>level_of_education</th>\n",
              "      <td>Primary education</td>\n",
              "      <td>object</td>\n",
              "      <td>0.123278</td>\n",
              "      <td>0.0</td>\n",
              "    </tr>\n",
              "    <tr>\n",
              "      <th>type_of_job</th>\n",
              "      <td>Farming and Fishing</td>\n",
              "      <td>object</td>\n",
              "      <td>0.127529</td>\n",
              "      <td>0.0</td>\n",
              "    </tr>\n",
              "  </tbody>\n",
              "</table>\n",
              "</div>"
            ],
            "text/plain": [
              "                                         sample  ... percentage duplicates\n",
              "year                                       2018  ...                   0.0\n",
              "household_size                                4  ...                   0.0\n",
              "respondent_age                               26  ...                   0.0\n",
              "country                                   Kenya  ...                   0.0\n",
              "uniqueid                            uniqueid_21  ...                   0.0\n",
              "bank_account                                 No  ...                   0.0\n",
              "location_type                             Rural  ...                   0.0\n",
              "cellphone_access                            Yes  ...                   0.0\n",
              "gender_of_respondent                       Male  ...                   0.0\n",
              "relationship_with_head        Head of Household  ...                   0.0\n",
              "marital_status          Married/Living together  ...                   0.0\n",
              "level_of_education            Primary education  ...                   0.0\n",
              "type_of_job                 Farming and Fishing  ...                   0.0\n",
              "\n",
              "[13 rows x 4 columns]"
            ]
          },
          "metadata": {
            "tags": []
          },
          "execution_count": 143
        }
      ]
    },
    {
      "cell_type": "code",
      "metadata": {
        "id": "Jn4icj_LTA5W",
        "colab_type": "code",
        "colab": {
          "base_uri": "https://localhost:8080/",
          "height": 142
        },
        "outputId": "77165840-1963-41f5-9036-ceb0c0fda08b"
      },
      "source": [
        "africa_financials.describe().T"
      ],
      "execution_count": 144,
      "outputs": [
        {
          "output_type": "execute_result",
          "data": {
            "text/html": [
              "<div>\n",
              "<style scoped>\n",
              "    .dataframe tbody tr th:only-of-type {\n",
              "        vertical-align: middle;\n",
              "    }\n",
              "\n",
              "    .dataframe tbody tr th {\n",
              "        vertical-align: top;\n",
              "    }\n",
              "\n",
              "    .dataframe thead th {\n",
              "        text-align: right;\n",
              "    }\n",
              "</style>\n",
              "<table border=\"1\" class=\"dataframe\">\n",
              "  <thead>\n",
              "    <tr style=\"text-align: right;\">\n",
              "      <th></th>\n",
              "      <th>count</th>\n",
              "      <th>mean</th>\n",
              "      <th>std</th>\n",
              "      <th>min</th>\n",
              "      <th>25%</th>\n",
              "      <th>50%</th>\n",
              "      <th>75%</th>\n",
              "      <th>max</th>\n",
              "    </tr>\n",
              "  </thead>\n",
              "  <tbody>\n",
              "    <tr>\n",
              "      <th>year</th>\n",
              "      <td>23524.0</td>\n",
              "      <td>2016.979000</td>\n",
              "      <td>0.899669</td>\n",
              "      <td>2016.0</td>\n",
              "      <td>2016.0</td>\n",
              "      <td>2017.0</td>\n",
              "      <td>2018.0</td>\n",
              "      <td>2056.0</td>\n",
              "    </tr>\n",
              "    <tr>\n",
              "      <th>household_size</th>\n",
              "      <td>23496.0</td>\n",
              "      <td>3.681818</td>\n",
              "      <td>2.279933</td>\n",
              "      <td>0.0</td>\n",
              "      <td>2.0</td>\n",
              "      <td>3.0</td>\n",
              "      <td>5.0</td>\n",
              "      <td>21.0</td>\n",
              "    </tr>\n",
              "    <tr>\n",
              "      <th>respondent_age</th>\n",
              "      <td>23490.0</td>\n",
              "      <td>38.804300</td>\n",
              "      <td>16.519996</td>\n",
              "      <td>16.0</td>\n",
              "      <td>26.0</td>\n",
              "      <td>35.0</td>\n",
              "      <td>49.0</td>\n",
              "      <td>100.0</td>\n",
              "    </tr>\n",
              "  </tbody>\n",
              "</table>\n",
              "</div>"
            ],
            "text/plain": [
              "                  count         mean        std  ...     50%     75%     max\n",
              "year            23524.0  2016.979000   0.899669  ...  2017.0  2018.0  2056.0\n",
              "household_size  23496.0     3.681818   2.279933  ...     3.0     5.0    21.0\n",
              "respondent_age  23490.0    38.804300  16.519996  ...    35.0    49.0   100.0\n",
              "\n",
              "[3 rows x 8 columns]"
            ]
          },
          "metadata": {
            "tags": []
          },
          "execution_count": 144
        }
      ]
    },
    {
      "cell_type": "markdown",
      "metadata": {
        "id": "QnPpHNTwFSqa",
        "colab_type": "text"
      },
      "source": [
        "# Exploratory Data Analysis and Documentation"
      ]
    },
    {
      "cell_type": "code",
      "metadata": {
        "id": "XnJu0ZRQP1bi",
        "colab_type": "code",
        "colab": {}
      },
      "source": [
        "# from the above we have missing values in our dataset but they are very few so we are going to drop them all \n",
        "# as we can see there is barely a column with more than 0.5 percent missing values\n",
        "\n",
        "africa_financials.dropna(axis=0,inplace=True)"
      ],
      "execution_count": 145,
      "outputs": []
    },
    {
      "cell_type": "code",
      "metadata": {
        "id": "Y56_zKCCy3VP",
        "colab_type": "code",
        "colab": {}
      },
      "source": [
        "#we will also drop the column unique ID as it has no significance in our analysis \n",
        "africa_financials.drop(['uniqueid'],axis=1,inplace=True)"
      ],
      "execution_count": 146,
      "outputs": []
    },
    {
      "cell_type": "code",
      "metadata": {
        "id": "g1jv-CFDRaJN",
        "colab_type": "code",
        "colab": {
          "base_uri": "https://localhost:8080/",
          "height": 34
        },
        "outputId": "0fc24ccb-7695-41bd-bb6b-2f249defc40f"
      },
      "source": [
        "africa_financials.shape"
      ],
      "execution_count": 147,
      "outputs": [
        {
          "output_type": "execute_result",
          "data": {
            "text/plain": [
              "(23343, 12)"
            ]
          },
          "metadata": {
            "tags": []
          },
          "execution_count": 147
        }
      ]
    },
    {
      "cell_type": "code",
      "metadata": {
        "id": "UROJI8g_Ujdi",
        "colab_type": "code",
        "colab": {
          "base_uri": "https://localhost:8080/",
          "height": 421
        },
        "outputId": "b325e0ed-df22-411e-cee6-9a645e37b552"
      },
      "source": [
        "#Voila! all our missing values gone\n",
        "look_deeper(africa_financials)\n",
        "\n",
        "#But now we have 18% duplicate values ..... well they are really not duplicates .... because we got them after droping the Unique_Id column"
      ],
      "execution_count": 148,
      "outputs": [
        {
          "output_type": "execute_result",
          "data": {
            "text/html": [
              "<div>\n",
              "<style scoped>\n",
              "    .dataframe tbody tr th:only-of-type {\n",
              "        vertical-align: middle;\n",
              "    }\n",
              "\n",
              "    .dataframe tbody tr th {\n",
              "        vertical-align: top;\n",
              "    }\n",
              "\n",
              "    .dataframe thead th {\n",
              "        text-align: right;\n",
              "    }\n",
              "</style>\n",
              "<table border=\"1\" class=\"dataframe\">\n",
              "  <thead>\n",
              "    <tr style=\"text-align: right;\">\n",
              "      <th></th>\n",
              "      <th>sample</th>\n",
              "      <th>data type</th>\n",
              "      <th>percent missing</th>\n",
              "      <th>percentage duplicates</th>\n",
              "    </tr>\n",
              "  </thead>\n",
              "  <tbody>\n",
              "    <tr>\n",
              "      <th>year</th>\n",
              "      <td>2018</td>\n",
              "      <td>int64</td>\n",
              "      <td>0.0</td>\n",
              "      <td>18.7251</td>\n",
              "    </tr>\n",
              "    <tr>\n",
              "      <th>household_size</th>\n",
              "      <td>4</td>\n",
              "      <td>float64</td>\n",
              "      <td>0.0</td>\n",
              "      <td>18.7251</td>\n",
              "    </tr>\n",
              "    <tr>\n",
              "      <th>respondent_age</th>\n",
              "      <td>26</td>\n",
              "      <td>float64</td>\n",
              "      <td>0.0</td>\n",
              "      <td>18.7251</td>\n",
              "    </tr>\n",
              "    <tr>\n",
              "      <th>country</th>\n",
              "      <td>Kenya</td>\n",
              "      <td>object</td>\n",
              "      <td>0.0</td>\n",
              "      <td>18.7251</td>\n",
              "    </tr>\n",
              "    <tr>\n",
              "      <th>bank_account</th>\n",
              "      <td>No</td>\n",
              "      <td>object</td>\n",
              "      <td>0.0</td>\n",
              "      <td>18.7251</td>\n",
              "    </tr>\n",
              "    <tr>\n",
              "      <th>location_type</th>\n",
              "      <td>Rural</td>\n",
              "      <td>object</td>\n",
              "      <td>0.0</td>\n",
              "      <td>18.7251</td>\n",
              "    </tr>\n",
              "    <tr>\n",
              "      <th>cellphone_access</th>\n",
              "      <td>Yes</td>\n",
              "      <td>object</td>\n",
              "      <td>0.0</td>\n",
              "      <td>18.7251</td>\n",
              "    </tr>\n",
              "    <tr>\n",
              "      <th>gender_of_respondent</th>\n",
              "      <td>Male</td>\n",
              "      <td>object</td>\n",
              "      <td>0.0</td>\n",
              "      <td>18.7251</td>\n",
              "    </tr>\n",
              "    <tr>\n",
              "      <th>relationship_with_head</th>\n",
              "      <td>Head of Household</td>\n",
              "      <td>object</td>\n",
              "      <td>0.0</td>\n",
              "      <td>18.7251</td>\n",
              "    </tr>\n",
              "    <tr>\n",
              "      <th>marital_status</th>\n",
              "      <td>Married/Living together</td>\n",
              "      <td>object</td>\n",
              "      <td>0.0</td>\n",
              "      <td>18.7251</td>\n",
              "    </tr>\n",
              "    <tr>\n",
              "      <th>level_of_education</th>\n",
              "      <td>Primary education</td>\n",
              "      <td>object</td>\n",
              "      <td>0.0</td>\n",
              "      <td>18.7251</td>\n",
              "    </tr>\n",
              "    <tr>\n",
              "      <th>type_of_job</th>\n",
              "      <td>Farming and Fishing</td>\n",
              "      <td>object</td>\n",
              "      <td>0.0</td>\n",
              "      <td>18.7251</td>\n",
              "    </tr>\n",
              "  </tbody>\n",
              "</table>\n",
              "</div>"
            ],
            "text/plain": [
              "                                         sample  ... percentage duplicates\n",
              "year                                       2018  ...               18.7251\n",
              "household_size                                4  ...               18.7251\n",
              "respondent_age                               26  ...               18.7251\n",
              "country                                   Kenya  ...               18.7251\n",
              "bank_account                                 No  ...               18.7251\n",
              "location_type                             Rural  ...               18.7251\n",
              "cellphone_access                            Yes  ...               18.7251\n",
              "gender_of_respondent                       Male  ...               18.7251\n",
              "relationship_with_head        Head of Household  ...               18.7251\n",
              "marital_status          Married/Living together  ...               18.7251\n",
              "level_of_education            Primary education  ...               18.7251\n",
              "type_of_job                 Farming and Fishing  ...               18.7251\n",
              "\n",
              "[12 rows x 4 columns]"
            ]
          },
          "metadata": {
            "tags": []
          },
          "execution_count": 148
        }
      ]
    },
    {
      "cell_type": "code",
      "metadata": {
        "id": "3GpKlop5bwdX",
        "colab_type": "code",
        "colab": {
          "base_uri": "https://localhost:8080/",
          "height": 34
        },
        "outputId": "c92d7cf8-7844-4b71-b83a-f415197f45e0"
      },
      "source": [
        "# from the above a house hold of 0.0 size is suspicious \n",
        "africa_financials[africa_financials['household_size']==0].country.unique(),africa_financials[africa_financials['household_size']==0].country.count()"
      ],
      "execution_count": 149,
      "outputs": [
        {
          "output_type": "execute_result",
          "data": {
            "text/plain": [
              "(array(['Tanzania'], dtype=object), 36)"
            ]
          },
          "metadata": {
            "tags": []
          },
          "execution_count": 149
        }
      ]
    },
    {
      "cell_type": "code",
      "metadata": {
        "id": "WegdsnFpsNtM",
        "colab_type": "code",
        "colab": {
          "base_uri": "https://localhost:8080/",
          "height": 119
        },
        "outputId": "db57a9cf-8d28-46f6-c979-13c2718e1e49"
      },
      "source": [
        "#finding the median household size in each country \n",
        "africa_financials.groupby('country')['household_size'].median()"
      ],
      "execution_count": 150,
      "outputs": [
        {
          "output_type": "execute_result",
          "data": {
            "text/plain": [
              "country\n",
              "Kenya       4.0\n",
              "Rwanda      4.0\n",
              "Tanzania    2.0\n",
              "Uganda      5.0\n",
              "Name: household_size, dtype: float64"
            ]
          },
          "metadata": {
            "tags": []
          },
          "execution_count": 150
        }
      ]
    },
    {
      "cell_type": "code",
      "metadata": {
        "id": "alRUv1_tgz5t",
        "colab_type": "code",
        "colab": {}
      },
      "source": [
        "# replacing the 0 household with the median for Tanzania since all the 0 household values were from Tanzania\n",
        "africa_financials.loc[ africa_financials['household_size'] == 0 | np.isnan(africa_financials['household_size']),\n",
        "                      'household_size' ] = africa_financials[africa_financials.country=='Tanzania'].household_size.median()"
      ],
      "execution_count": 151,
      "outputs": []
    },
    {
      "cell_type": "code",
      "metadata": {
        "id": "IKlkTdEnfKs5",
        "colab_type": "code",
        "colab": {
          "base_uri": "https://localhost:8080/",
          "height": 238
        },
        "outputId": "aadebf9d-48d8-4d2d-c490-f09f573e7626"
      },
      "source": [
        "africa_financials[africa_financials['household_size']==0].count()"
      ],
      "execution_count": 152,
      "outputs": [
        {
          "output_type": "execute_result",
          "data": {
            "text/plain": [
              "country                   0\n",
              "year                      0\n",
              "bank_account              0\n",
              "location_type             0\n",
              "cellphone_access          0\n",
              "household_size            0\n",
              "respondent_age            0\n",
              "gender_of_respondent      0\n",
              "relationship_with_head    0\n",
              "marital_status            0\n",
              "level_of_education        0\n",
              "type_of_job               0\n",
              "dtype: int64"
            ]
          },
          "metadata": {
            "tags": []
          },
          "execution_count": 152
        }
      ]
    },
    {
      "cell_type": "markdown",
      "metadata": {
        "id": "1pf8gNMiFuE6",
        "colab_type": "text"
      },
      "source": [
        "# Univariate Analysis"
      ]
    },
    {
      "cell_type": "markdown",
      "metadata": {
        "id": "9soWKtQVTXyb",
        "colab_type": "text"
      },
      "source": [
        "Analysis on Numerical variables"
      ]
    },
    {
      "cell_type": "code",
      "metadata": {
        "id": "cSPHzgf6TWGD",
        "colab_type": "code",
        "colab": {}
      },
      "source": [
        "age=africa_financials['respondent_age']"
      ],
      "execution_count": 153,
      "outputs": []
    },
    {
      "cell_type": "code",
      "metadata": {
        "id": "5aTCbmChMxd7",
        "colab_type": "code",
        "colab": {}
      },
      "source": [
        "h_size=africa_financials['household_size']"
      ],
      "execution_count": 154,
      "outputs": []
    },
    {
      "cell_type": "code",
      "metadata": {
        "id": "Fu1MryTIEBic",
        "colab_type": "code",
        "colab": {
          "base_uri": "https://localhost:8080/",
          "height": 34
        },
        "outputId": "fcc3a497-98d3-420c-98d9-d26d18aac2d8"
      },
      "source": [
        "age.mean()"
      ],
      "execution_count": 155,
      "outputs": [
        {
          "output_type": "execute_result",
          "data": {
            "text/plain": [
              "38.80550914621085"
            ]
          },
          "metadata": {
            "tags": []
          },
          "execution_count": 155
        }
      ]
    },
    {
      "cell_type": "code",
      "metadata": {
        "id": "0bEdUKLyEFYL",
        "colab_type": "code",
        "colab": {
          "base_uri": "https://localhost:8080/",
          "height": 34
        },
        "outputId": "4f22e083-c2f8-4b5a-a0b4-fbdfaa3ab7ac"
      },
      "source": [
        "age.median()"
      ],
      "execution_count": 156,
      "outputs": [
        {
          "output_type": "execute_result",
          "data": {
            "text/plain": [
              "35.0"
            ]
          },
          "metadata": {
            "tags": []
          },
          "execution_count": 156
        }
      ]
    },
    {
      "cell_type": "code",
      "metadata": {
        "id": "Z_98WNrfFM5A",
        "colab_type": "code",
        "colab": {
          "base_uri": "https://localhost:8080/",
          "height": 51
        },
        "outputId": "764e963e-fac4-4fe6-e05f-2cbfeb9cc4ef"
      },
      "source": [
        "age.mode()"
      ],
      "execution_count": 157,
      "outputs": [
        {
          "output_type": "execute_result",
          "data": {
            "text/plain": [
              "0    30.0\n",
              "dtype: float64"
            ]
          },
          "metadata": {
            "tags": []
          },
          "execution_count": 157
        }
      ]
    },
    {
      "cell_type": "code",
      "metadata": {
        "id": "08-D81C7GPjD",
        "colab_type": "code",
        "colab": {
          "base_uri": "https://localhost:8080/",
          "height": 34
        },
        "outputId": "6972da9f-b6eb-483e-ce11-faccbd84d297"
      },
      "source": [
        "age.std()"
      ],
      "execution_count": 158,
      "outputs": [
        {
          "output_type": "execute_result",
          "data": {
            "text/plain": [
              "16.51980349804178"
            ]
          },
          "metadata": {
            "tags": []
          },
          "execution_count": 158
        }
      ]
    },
    {
      "cell_type": "code",
      "metadata": {
        "id": "S_SlBxcFL9NJ",
        "colab_type": "code",
        "colab": {
          "base_uri": "https://localhost:8080/",
          "height": 296
        },
        "outputId": "04c5e109-1ce4-4fdb-f5fe-ee6f54aace06"
      },
      "source": [
        "sns.boxplot(age)\n",
        "plt.title('a boxplot of the age of the sample')\n",
        "plt.show()"
      ],
      "execution_count": 159,
      "outputs": [
        {
          "output_type": "display_data",
          "data": {
            "image/png": "[encoded data removed]",
            "text/plain": [
              "<Figure size 432x288 with 1 Axes>"
            ]
          },
          "metadata": {
            "tags": [],
            "needs_background": "light"
          }
        }
      ]
    },
    {
      "cell_type": "markdown",
      "metadata": {
        "id": "Ips2GKtaP47o",
        "colab_type": "text"
      },
      "source": [
        "we have outliers there but they are reasonable because  the age range of 80 to 100 is a common one in Africa"
      ]
    },
    {
      "cell_type": "code",
      "metadata": {
        "id": "RWwRWtDZM7R5",
        "colab_type": "code",
        "colab": {
          "base_uri": "https://localhost:8080/",
          "height": 296
        },
        "outputId": "a33a30db-4fed-4b2e-cda4-3301f8ee6993"
      },
      "source": [
        "sns.boxplot(h_size)\n",
        "plt.title('a boxplot of the house hold size')\n",
        "plt.show()"
      ],
      "execution_count": 160,
      "outputs": [
        {
          "output_type": "display_data",
          "data": {
            "image/png": "[encoded data removed]",
            "text/plain": [
              "<Figure size 432x288 with 1 Axes>"
            ]
          },
          "metadata": {
            "tags": [],
            "needs_background": "light"
          }
        }
      ]
    },
    {
      "cell_type": "markdown",
      "metadata": {
        "id": "zQeBr7HZQucO",
        "colab_type": "text"
      },
      "source": [
        "whe have some outliers but we will leave them put because households of 10 to 20 persons are common in Africa"
      ]
    },
    {
      "cell_type": "markdown",
      "metadata": {
        "id": "zBEZMWF1TcNX",
        "colab_type": "text"
      },
      "source": [
        "Analysis of our Categorical variables\n",
        "\n",
        "\n",
        "1. Country\n",
        "2. Year\n",
        "3. Location type\n",
        "4. Cell phone access\n",
        "5. Gender\n",
        "6. Relationship with head\n",
        "7. Marital Status\n",
        "8. Education level\n",
        "9. Job type\n",
        "\n",
        "\n",
        "\n",
        "\n",
        "\n",
        "\n"
      ]
    },
    {
      "cell_type": "code",
      "metadata": {
        "id": "cBOTO_JYx7VC",
        "colab_type": "code",
        "colab": {
          "base_uri": "https://localhost:8080/",
          "height": 295
        },
        "outputId": "72372334-2054-4b04-d2dd-75137860ebcf"
      },
      "source": [
        "country=africa_financials['country']\n",
        "plt.hist(country,rwidth=0.9,)\n",
        "plt.xlabel('Countries')\n",
        "plt.ylabel('sample size')\n",
        "plt.title('Histogram of sample size vs Country')\n",
        "plt.show()"
      ],
      "execution_count": 161,
      "outputs": [
        {
          "output_type": "display_data",
          "data": {
            "image/png": "[encoded data removed]",
            "text/plain": [
              "<Figure size 432x288 with 1 Axes>"
            ]
          },
          "metadata": {
            "tags": [],
            "needs_background": "light"
          }
        }
      ]
    },
    {
      "cell_type": "markdown",
      "metadata": {
        "id": "PgzfcLMh2PA7",
        "colab_type": "text"
      },
      "source": [
        "from the above  we notice that a big sample was drawn from Rwanda"
      ]
    },
    {
      "cell_type": "code",
      "metadata": {
        "id": "7EBa0p9cwBij",
        "colab_type": "code",
        "colab": {
          "base_uri": "https://localhost:8080/",
          "height": 295
        },
        "outputId": "e9c871c2-8326-4469-8958-400b64f43250"
      },
      "source": [
        "location=africa_financials['location_type']\n",
        "plt.hist(location)\n",
        "plt.xlabel('Location')\n",
        "plt.ylabel('sample size')\n",
        "plt.title('Histogram of sample size vs location type')\n",
        "plt.show()"
      ],
      "execution_count": 162,
      "outputs": [
        {
          "output_type": "display_data",
          "data": {
            "image/png": "[encoded data removed]",
            "text/plain": [
              "<Figure size 432x288 with 1 Axes>"
            ]
          },
          "metadata": {
            "tags": [],
            "needs_background": "light"
          }
        }
      ]
    },
    {
      "cell_type": "markdown",
      "metadata": {
        "id": "wdSOwquaC7ib",
        "colab_type": "text"
      },
      "source": [
        "Univariate anylysis on categorical here does not really give use alot of information about our data"
      ]
    },
    {
      "cell_type": "markdown",
      "metadata": {
        "id": "nLIM2eQNFx3Z",
        "colab_type": "text"
      },
      "source": [
        "# Bivariate Analysis"
      ]
    },
    {
      "cell_type": "markdown",
      "metadata": {
        "id": "T-HCFE3PYEWt",
        "colab_type": "text"
      },
      "source": [
        "for this we are going to encode our categorical variables first"
      ]
    },
    {
      "cell_type": "code",
      "metadata": {
        "id": "y7LXaPrCbyiR",
        "colab_type": "code",
        "colab": {
          "base_uri": "https://localhost:8080/",
          "height": 278
        },
        "outputId": "383140ec-5acc-4128-f00f-44d705fb9f1a"
      },
      "source": [
        "le = LabelEncoder()\n",
        "africa_financials['bank_account'] = le.fit_transform(africa_financials['bank_account'])\n",
        "africa_financials.head(4)"
      ],
      "execution_count": 163,
      "outputs": [
        {
          "output_type": "execute_result",
          "data": {
            "text/html": [
              "<div>\n",
              "<style scoped>\n",
              "    .dataframe tbody tr th:only-of-type {\n",
              "        vertical-align: middle;\n",
              "    }\n",
              "\n",
              "    .dataframe tbody tr th {\n",
              "        vertical-align: top;\n",
              "    }\n",
              "\n",
              "    .dataframe thead th {\n",
              "        text-align: right;\n",
              "    }\n",
              "</style>\n",
              "<table border=\"1\" class=\"dataframe\">\n",
              "  <thead>\n",
              "    <tr style=\"text-align: right;\">\n",
              "      <th></th>\n",
              "      <th>country</th>\n",
              "      <th>year</th>\n",
              "      <th>bank_account</th>\n",
              "      <th>location_type</th>\n",
              "      <th>cellphone_access</th>\n",
              "      <th>household_size</th>\n",
              "      <th>respondent_age</th>\n",
              "      <th>gender_of_respondent</th>\n",
              "      <th>relationship_with_head</th>\n",
              "      <th>marital_status</th>\n",
              "      <th>level_of_education</th>\n",
              "      <th>type_of_job</th>\n",
              "    </tr>\n",
              "  </thead>\n",
              "  <tbody>\n",
              "    <tr>\n",
              "      <th>0</th>\n",
              "      <td>Kenya</td>\n",
              "      <td>2018</td>\n",
              "      <td>1</td>\n",
              "      <td>Rural</td>\n",
              "      <td>Yes</td>\n",
              "      <td>3.0</td>\n",
              "      <td>24.0</td>\n",
              "      <td>Female</td>\n",
              "      <td>Spouse</td>\n",
              "      <td>Married/Living together</td>\n",
              "      <td>Secondary education</td>\n",
              "      <td>Self employed</td>\n",
              "    </tr>\n",
              "    <tr>\n",
              "      <th>1</th>\n",
              "      <td>Kenya</td>\n",
              "      <td>2018</td>\n",
              "      <td>0</td>\n",
              "      <td>Rural</td>\n",
              "      <td>No</td>\n",
              "      <td>5.0</td>\n",
              "      <td>70.0</td>\n",
              "      <td>Female</td>\n",
              "      <td>Head of Household</td>\n",
              "      <td>Widowed</td>\n",
              "      <td>No formal education</td>\n",
              "      <td>Government Dependent</td>\n",
              "    </tr>\n",
              "    <tr>\n",
              "      <th>2</th>\n",
              "      <td>Kenya</td>\n",
              "      <td>2018</td>\n",
              "      <td>1</td>\n",
              "      <td>Urban</td>\n",
              "      <td>Yes</td>\n",
              "      <td>5.0</td>\n",
              "      <td>26.0</td>\n",
              "      <td>Male</td>\n",
              "      <td>Other relative</td>\n",
              "      <td>Single/Never Married</td>\n",
              "      <td>Vocational/Specialised training</td>\n",
              "      <td>Self employed</td>\n",
              "    </tr>\n",
              "    <tr>\n",
              "      <th>3</th>\n",
              "      <td>Kenya</td>\n",
              "      <td>2018</td>\n",
              "      <td>0</td>\n",
              "      <td>Rural</td>\n",
              "      <td>Yes</td>\n",
              "      <td>5.0</td>\n",
              "      <td>34.0</td>\n",
              "      <td>Female</td>\n",
              "      <td>Head of Household</td>\n",
              "      <td>Married/Living together</td>\n",
              "      <td>Primary education</td>\n",
              "      <td>Formally employed Private</td>\n",
              "    </tr>\n",
              "  </tbody>\n",
              "</table>\n",
              "</div>"
            ],
            "text/plain": [
              "  country  year  ...               level_of_education                type_of_job\n",
              "0   Kenya  2018  ...              Secondary education              Self employed\n",
              "1   Kenya  2018  ...              No formal education       Government Dependent\n",
              "2   Kenya  2018  ...  Vocational/Specialised training              Self employed\n",
              "3   Kenya  2018  ...                Primary education  Formally employed Private\n",
              "\n",
              "[4 rows x 12 columns]"
            ]
          },
          "metadata": {
            "tags": []
          },
          "execution_count": 163
        }
      ]
    },
    {
      "cell_type": "code",
      "metadata": {
        "id": "gn1PFR-0cu7l",
        "colab_type": "code",
        "colab": {}
      },
      "source": [
        "categ = ['relationship_with_head', 'marital_status', 'level_of_education', 'type_of_job', 'country']"
      ],
      "execution_count": 164,
      "outputs": []
    },
    {
      "cell_type": "code",
      "metadata": {
        "id": "DVhWyM8TYsHn",
        "colab_type": "code",
        "colab": {
          "base_uri": "https://localhost:8080/",
          "height": 388
        },
        "outputId": "a877a175-8ddd-4a32-d30d-8151052bccda"
      },
      "source": [
        "\n",
        "plt.figure(figsize=[10,6])\n",
        "sns.barplot('country', 'bank_account', data=africa_financials)\n",
        "plt.show()"
      ],
      "execution_count": 165,
      "outputs": [
        {
          "output_type": "display_data",
          "data": {
            "image/png": "[encoded data removed]",
            "text/plain": [
              "<Figure size 720x432 with 1 Axes>"
            ]
          },
          "metadata": {
            "tags": [],
            "needs_background": "light"
          }
        }
      ]
    },
    {
      "cell_type": "code",
      "metadata": {
        "id": "iFlbUxgUYw5v",
        "colab_type": "code",
        "colab": {
          "base_uri": "https://localhost:8080/",
          "height": 637
        },
        "outputId": "9fdd5825-a420-4ff1-f89a-c1e9725f4c95"
      },
      "source": [
        "plt.figure(figsize=[25,20])\n",
        "plt.subplot(331)\n",
        "sns.barplot('gender_of_respondent', 'bank_account', data=africa_financials[(africa_financials.country=='Kenya')])\n",
        "plt.title('gender vs bank account in Kenya ')\n",
        "plt.subplot(332)\n",
        "sns.barplot('gender_of_respondent', 'bank_account', data=africa_financials[(africa_financials.country=='Rwanda')])\n",
        "plt.title('gender vs bank account in Rwanda ')\n",
        "plt.subplot(333)\n",
        "sns.barplot('gender_of_respondent', 'bank_account', data=africa_financials[(africa_financials.country=='Tanzania')])\n",
        "plt.title('gender vs bank account in Tanzania ')\n",
        "plt.subplot(334)\n",
        "sns.barplot('gender_of_respondent', 'bank_account', data=africa_financials[(africa_financials.country=='Uganda')])\n",
        "plt.title('gender vs bank account in Uganda ')\n",
        "\n",
        "plt.show()"
      ],
      "execution_count": 166,
      "outputs": [
        {
          "output_type": "display_data",
          "data": {
            "image/png": "[encoded data removed]",
            "text/plain": [
              "<Figure size 1800x1440 with 4 Axes>"
            ]
          },
          "metadata": {
            "tags": [],
            "needs_background": "light"
          }
        }
      ]
    },
    {
      "cell_type": "code",
      "metadata": {
        "id": "AYgJEsNsiV81",
        "colab_type": "code",
        "colab": {
          "base_uri": "https://localhost:8080/",
          "height": 333
        },
        "outputId": "8e2a09f2-aee5-4a6d-e827-038eda2fbb6b"
      },
      "source": [
        "fig=plt.figure(figsize=[25,6])\n",
        "\n",
        "sns.barplot('type_of_job', 'bank_account', data=africa_financials,)\n",
        "plt.title('Bank account by type of job')\n",
        "plt.show()\n"
      ],
      "execution_count": 167,
      "outputs": [
        {
          "output_type": "display_data",
          "data": {
            "image/png": "[encoded data removed]",
            "text/plain": [
              "<Figure size 1800x432 with 1 Axes>"
            ]
          },
          "metadata": {
            "tags": [],
            "needs_background": "light"
          }
        }
      ]
    },
    {
      "cell_type": "code",
      "metadata": {
        "id": "SDOWpbfzrpP0",
        "colab_type": "code",
        "colab": {
          "base_uri": "https://localhost:8080/",
          "height": 389
        },
        "outputId": "3e62631f-9c7c-4427-adf7-689b1788e896"
      },
      "source": [
        "plt.figure(figsize=[15,6])\n",
        "sns.barplot('cellphone_access', 'bank_account', data=africa_financials)\n",
        "plt.show()"
      ],
      "execution_count": 168,
      "outputs": [
        {
          "output_type": "display_data",
          "data": {
            "image/png": "[encoded data removed]",
            "text/plain": [
              "<Figure size 1080x432 with 1 Axes>"
            ]
          },
          "metadata": {
            "tags": [],
            "needs_background": "light"
          }
        }
      ]
    },
    {
      "cell_type": "code",
      "metadata": {
        "id": "r8r93BU8r8PE",
        "colab_type": "code",
        "colab": {
          "base_uri": "https://localhost:8080/",
          "height": 389
        },
        "outputId": "483140f8-c3ca-4b43-c9ae-f2a4677daa30"
      },
      "source": [
        "\n",
        "plt.figure(figsize=[15,6])\n",
        "sns.barplot('relationship_with_head', 'bank_account', data=africa_financials)\n",
        "plt.show()"
      ],
      "execution_count": 169,
      "outputs": [
        {
          "output_type": "display_data",
          "data": {
            "image/png": "[encoded data removed]",
            "text/plain": [
              "<Figure size 1080x432 with 1 Axes>"
            ]
          },
          "metadata": {
            "tags": [],
            "needs_background": "light"
          }
        }
      ]
    },
    {
      "cell_type": "code",
      "metadata": {
        "id": "f4MTbpgNsNFb",
        "colab_type": "code",
        "colab": {
          "base_uri": "https://localhost:8080/",
          "height": 389
        },
        "outputId": "be751fcc-2f7f-4131-fdc6-8c321879922b"
      },
      "source": [
        "\n",
        "plt.figure(figsize=[15,6])\n",
        "sns.barplot('location_type', 'bank_account', data=africa_financials)\n",
        "plt.show()"
      ],
      "execution_count": 170,
      "outputs": [
        {
          "output_type": "display_data",
          "data": {
            "image/png": "[encoded data removed]",
            "text/plain": [
              "<Figure size 1080x432 with 1 Axes>"
            ]
          },
          "metadata": {
            "tags": [],
            "needs_background": "light"
          }
        }
      ]
    },
    {
      "cell_type": "code",
      "metadata": {
        "id": "EntL6HKUtBno",
        "colab_type": "code",
        "colab": {
          "base_uri": "https://localhost:8080/",
          "height": 389
        },
        "outputId": "2384060b-e6a4-4aae-e43c-d5da16229bdd"
      },
      "source": [
        "plt.figure(figsize=[15,6])\n",
        "sns.barplot('marital_status', 'bank_account', data=africa_financials)\n",
        "plt.show()"
      ],
      "execution_count": 171,
      "outputs": [
        {
          "output_type": "display_data",
          "data": {
            "image/png": "[encoded data removed]",
            "text/plain": [
              "<Figure size 1080x432 with 1 Axes>"
            ]
          },
          "metadata": {
            "tags": [],
            "needs_background": "light"
          }
        }
      ]
    },
    {
      "cell_type": "code",
      "metadata": {
        "id": "0bYBJHBCvW6y",
        "colab_type": "code",
        "colab": {
          "base_uri": "https://localhost:8080/",
          "height": 357
        },
        "outputId": "4d5a5b7d-9f6d-460c-9794-b068eb79d457"
      },
      "source": [
        "sns.heatmap(africa_financials.corr())"
      ],
      "execution_count": 172,
      "outputs": [
        {
          "output_type": "execute_result",
          "data": {
            "text/plain": [
              "<matplotlib.axes._subplots.AxesSubplot at 0x7f2897a50cf8>"
            ]
          },
          "metadata": {
            "tags": []
          },
          "execution_count": 172
        },
        {
          "output_type": "display_data",
          "data": {
            "image/png": "[encoded data removed]",
            "text/plain": [
              "<Figure size 432x288 with 2 Axes>"
            ]
          },
          "metadata": {
            "tags": [],
            "needs_background": "light"
          }
        }
      ]
    },
    {
      "cell_type": "markdown",
      "metadata": {
        "id": "_lf4x3BWv0Vf",
        "colab_type": "text"
      },
      "source": [
        "changing the variables using encoding"
      ]
    },
    {
      "cell_type": "code",
      "metadata": {
        "id": "hbuAIDFfv6n9",
        "colab_type": "code",
        "colab": {}
      },
      "source": [
        "africa_financials['relationship_with_head'] = le.fit_transform(africa_financials['relationship_with_head'])\n",
        "\n",
        "africa_financials['country'] = le.fit_transform(africa_financials['country'])\n",
        "\n",
        "africa_financials['marital_status'] = le.fit_transform(africa_financials['marital_status'])\n",
        "\n",
        "africa_financials['location_type'] = le.fit_transform(africa_financials['location_type'])\n",
        "\n",
        "africa_financials['cellphone_access'] = le.fit_transform(africa_financials['cellphone_access'])\n",
        "\n",
        "africa_financials['gender_of_respondent'] = le.fit_transform(africa_financials['gender_of_respondent'])\n",
        "\n",
        "africa_financials['level_of_education'] = le.fit_transform(africa_financials['level_of_education'])\n",
        "\n",
        "africa_financials['type_of_job'] = le.fit_transform(africa_financials['type_of_job'])"
      ],
      "execution_count": 173,
      "outputs": []
    },
    {
      "cell_type": "code",
      "metadata": {
        "id": "_UI4GuzdwO1_",
        "colab_type": "code",
        "colab": {
          "base_uri": "https://localhost:8080/",
          "height": 374
        },
        "outputId": "05fe3680-ff47-4a00-d56e-ad2ebe0ba609"
      },
      "source": [
        "sns.heatmap(africa_financials.corr())\n",
        "plt.show()"
      ],
      "execution_count": 174,
      "outputs": [
        {
          "output_type": "display_data",
          "data": {
            "image/png": "[encoded data removed]",
            "text/plain": [
              "<Figure size 432x288 with 2 Axes>"
            ]
          },
          "metadata": {
            "tags": [],
            "needs_background": "light"
          }
        }
      ]
    },
    {
      "cell_type": "markdown",
      "metadata": {
        "id": "HSn91kzOF1wc",
        "colab_type": "text"
      },
      "source": [
        "# Multivariate Analysis"
      ]
    },
    {
      "cell_type": "markdown",
      "metadata": {
        "id": "G-D7gZg4zglr",
        "colab_type": "text"
      },
      "source": [
        "Using Factor Analysis"
      ]
    },
    {
      "cell_type": "code",
      "metadata": {
        "id": "JhBgqFQnzkn-",
        "colab_type": "code",
        "colab": {
          "base_uri": "https://localhost:8080/",
          "height": 34
        },
        "outputId": "33d4c917-f616-4122-bca0-af1aebb22276"
      },
      "source": [
        "\n",
        "\n",
        "from factor_analyzer.factor_analyzer import calculate_bartlett_sphericity\n",
        "\n",
        "chi_square_value,p_value=calculate_bartlett_sphericity(africa_financials)\n",
        "chi_square_value, p_value"
      ],
      "execution_count": 175,
      "outputs": [
        {
          "output_type": "execute_result",
          "data": {
            "text/plain": [
              "(34823.32889381001, 0.0)"
            ]
          },
          "metadata": {
            "tags": []
          },
          "execution_count": 175
        }
      ]
    },
    {
      "cell_type": "code",
      "metadata": {
        "id": "lvDAwZ5yzltI",
        "colab_type": "code",
        "colab": {}
      },
      "source": [
        "from factor_analyzer.factor_analyzer import calculate_kmo\n",
        "\n",
        "kmo_all,kmo_model=calculate_kmo(africa_financials)"
      ],
      "execution_count": 176,
      "outputs": []
    },
    {
      "cell_type": "code",
      "metadata": {
        "id": "t9G9kISP0LRN",
        "colab_type": "code",
        "colab": {
          "base_uri": "https://localhost:8080/",
          "height": 421
        },
        "outputId": "25ad4c8c-d44e-4aa3-acf7-001afaa71f5d"
      },
      "source": [
        "kmo_all"
      ],
      "execution_count": 177,
      "outputs": [
        {
          "output_type": "execute_result",
          "data": {
            "text/html": [
              "<div>\n",
              "<style scoped>\n",
              "    .dataframe tbody tr th:only-of-type {\n",
              "        vertical-align: middle;\n",
              "    }\n",
              "\n",
              "    .dataframe tbody tr th {\n",
              "        vertical-align: top;\n",
              "    }\n",
              "\n",
              "    .dataframe thead th {\n",
              "        text-align: right;\n",
              "    }\n",
              "</style>\n",
              "<table border=\"1\" class=\"dataframe\">\n",
              "  <thead>\n",
              "    <tr style=\"text-align: right;\">\n",
              "      <th></th>\n",
              "      <th>KMO</th>\n",
              "    </tr>\n",
              "  </thead>\n",
              "  <tbody>\n",
              "    <tr>\n",
              "      <th>country</th>\n",
              "      <td>0.548482</td>\n",
              "    </tr>\n",
              "    <tr>\n",
              "      <th>year</th>\n",
              "      <td>0.510157</td>\n",
              "    </tr>\n",
              "    <tr>\n",
              "      <th>bank_account</th>\n",
              "      <td>0.606860</td>\n",
              "    </tr>\n",
              "    <tr>\n",
              "      <th>location_type</th>\n",
              "      <td>0.669117</td>\n",
              "    </tr>\n",
              "    <tr>\n",
              "      <th>cellphone_access</th>\n",
              "      <td>0.719108</td>\n",
              "    </tr>\n",
              "    <tr>\n",
              "      <th>household_size</th>\n",
              "      <td>0.646055</td>\n",
              "    </tr>\n",
              "    <tr>\n",
              "      <th>respondent_age</th>\n",
              "      <td>0.528258</td>\n",
              "    </tr>\n",
              "    <tr>\n",
              "      <th>gender_of_respondent</th>\n",
              "      <td>0.482884</td>\n",
              "    </tr>\n",
              "    <tr>\n",
              "      <th>relationship_with_head</th>\n",
              "      <td>0.484181</td>\n",
              "    </tr>\n",
              "    <tr>\n",
              "      <th>marital_status</th>\n",
              "      <td>0.540207</td>\n",
              "    </tr>\n",
              "    <tr>\n",
              "      <th>level_of_education</th>\n",
              "      <td>0.575730</td>\n",
              "    </tr>\n",
              "    <tr>\n",
              "      <th>type_of_job</th>\n",
              "      <td>0.593020</td>\n",
              "    </tr>\n",
              "  </tbody>\n",
              "</table>\n",
              "</div>"
            ],
            "text/plain": [
              "                             KMO\n",
              "country                 0.548482\n",
              "year                    0.510157\n",
              "bank_account            0.606860\n",
              "location_type           0.669117\n",
              "cellphone_access        0.719108\n",
              "household_size          0.646055\n",
              "respondent_age          0.528258\n",
              "gender_of_respondent    0.482884\n",
              "relationship_with_head  0.484181\n",
              "marital_status          0.540207\n",
              "level_of_education      0.575730\n",
              "type_of_job             0.593020"
            ]
          },
          "metadata": {
            "tags": []
          },
          "execution_count": 177
        }
      ]
    },
    {
      "cell_type": "code",
      "metadata": {
        "id": "hfyBu3PR0Tww",
        "colab_type": "code",
        "colab": {
          "base_uri": "https://localhost:8080/",
          "height": 34
        },
        "outputId": "eaac1830-8867-425b-f338-5ac5ef8746d4"
      },
      "source": [
        "kmo_model"
      ],
      "execution_count": 178,
      "outputs": [
        {
          "output_type": "execute_result",
          "data": {
            "text/plain": [
              "0.5672147886036324"
            ]
          },
          "metadata": {
            "tags": []
          },
          "execution_count": 178
        }
      ]
    },
    {
      "cell_type": "code",
      "metadata": {
        "id": "zX-We7xl0Vij",
        "colab_type": "code",
        "colab": {}
      },
      "source": [
        "from factor_analyzer import FactorAnalyzer"
      ],
      "execution_count": 179,
      "outputs": []
    },
    {
      "cell_type": "code",
      "metadata": {
        "id": "2O6_EVol1mH5",
        "colab_type": "code",
        "colab": {
          "base_uri": "https://localhost:8080/",
          "height": 421
        },
        "outputId": "27875cb8-c7f3-4760-ff74-2fe448d95038"
      },
      "source": [
        "fa = FactorAnalyzer()\n",
        "fa.analyze(africa_financials, 12, rotation=None)\n",
        "\n",
        "# Checking the Eigenvalues\n",
        "ev, v = fa.get_eigenvalues()\n",
        "ev"
      ],
      "execution_count": 180,
      "outputs": [
        {
          "output_type": "execute_result",
          "data": {
            "text/html": [
              "<div>\n",
              "<style scoped>\n",
              "    .dataframe tbody tr th:only-of-type {\n",
              "        vertical-align: middle;\n",
              "    }\n",
              "\n",
              "    .dataframe tbody tr th {\n",
              "        vertical-align: top;\n",
              "    }\n",
              "\n",
              "    .dataframe thead th {\n",
              "        text-align: right;\n",
              "    }\n",
              "</style>\n",
              "<table border=\"1\" class=\"dataframe\">\n",
              "  <thead>\n",
              "    <tr style=\"text-align: right;\">\n",
              "      <th></th>\n",
              "      <th>Original_Eigenvalues</th>\n",
              "    </tr>\n",
              "  </thead>\n",
              "  <tbody>\n",
              "    <tr>\n",
              "      <th>0</th>\n",
              "      <td>1.955384</td>\n",
              "    </tr>\n",
              "    <tr>\n",
              "      <th>1</th>\n",
              "      <td>1.826229</td>\n",
              "    </tr>\n",
              "    <tr>\n",
              "      <th>2</th>\n",
              "      <td>1.587535</td>\n",
              "    </tr>\n",
              "    <tr>\n",
              "      <th>3</th>\n",
              "      <td>1.183388</td>\n",
              "    </tr>\n",
              "    <tr>\n",
              "      <th>4</th>\n",
              "      <td>1.008232</td>\n",
              "    </tr>\n",
              "    <tr>\n",
              "      <th>5</th>\n",
              "      <td>0.858829</td>\n",
              "    </tr>\n",
              "    <tr>\n",
              "      <th>6</th>\n",
              "      <td>0.779016</td>\n",
              "    </tr>\n",
              "    <tr>\n",
              "      <th>7</th>\n",
              "      <td>0.726889</td>\n",
              "    </tr>\n",
              "    <tr>\n",
              "      <th>8</th>\n",
              "      <td>0.662710</td>\n",
              "    </tr>\n",
              "    <tr>\n",
              "      <th>9</th>\n",
              "      <td>0.521371</td>\n",
              "    </tr>\n",
              "    <tr>\n",
              "      <th>10</th>\n",
              "      <td>0.463878</td>\n",
              "    </tr>\n",
              "    <tr>\n",
              "      <th>11</th>\n",
              "      <td>0.426540</td>\n",
              "    </tr>\n",
              "  </tbody>\n",
              "</table>\n",
              "</div>"
            ],
            "text/plain": [
              "    Original_Eigenvalues\n",
              "0               1.955384\n",
              "1               1.826229\n",
              "2               1.587535\n",
              "3               1.183388\n",
              "4               1.008232\n",
              "5               0.858829\n",
              "6               0.779016\n",
              "7               0.726889\n",
              "8               0.662710\n",
              "9               0.521371\n",
              "10              0.463878\n",
              "11              0.426540"
            ]
          },
          "metadata": {
            "tags": []
          },
          "execution_count": 180
        }
      ]
    },
    {
      "cell_type": "code",
      "metadata": {
        "id": "O3HRb_O52EvF",
        "colab_type": "code",
        "colab": {
          "base_uri": "https://localhost:8080/",
          "height": 295
        },
        "outputId": "9a6c3e3a-97ef-4be7-d529-251c68ad9f48"
      },
      "source": [
        "# Creating a scree plot using matplotlib\n",
        "#\n",
        "plt.scatter(range(1,africa_financials.shape[1]+1),ev)\n",
        "plt.plot(range(1,africa_financials.shape[1]+1),ev)\n",
        "plt.title('Scree Plot')\n",
        "plt.xlabel('Factors')\n",
        "plt.ylabel('Eigenvalue')\n",
        "plt.grid()\n",
        "plt.show()"
      ],
      "execution_count": 181,
      "outputs": [
        {
          "output_type": "display_data",
          "data": {
            "image/png": "[encoded data removed]",
            "text/plain": [
              "<Figure size 432x288 with 1 Axes>"
            ]
          },
          "metadata": {
            "tags": [],
            "needs_background": "light"
          }
        }
      ]
    },
    {
      "cell_type": "code",
      "metadata": {
        "id": "4X9x3LFM2WoW",
        "colab_type": "code",
        "colab": {
          "base_uri": "https://localhost:8080/",
          "height": 421
        },
        "outputId": "e6b7fb23-c906-48c5-8cab-a18fdc9d5148"
      },
      "source": [
        "fa = FactorAnalyzer()\n",
        "fa.analyze(africa_financials, 5, rotation=\"varimax\")\n",
        "fa.loadings"
      ],
      "execution_count": 182,
      "outputs": [
        {
          "output_type": "execute_result",
          "data": {
            "text/html": [
              "<div>\n",
              "<style scoped>\n",
              "    .dataframe tbody tr th:only-of-type {\n",
              "        vertical-align: middle;\n",
              "    }\n",
              "\n",
              "    .dataframe tbody tr th {\n",
              "        vertical-align: top;\n",
              "    }\n",
              "\n",
              "    .dataframe thead th {\n",
              "        text-align: right;\n",
              "    }\n",
              "</style>\n",
              "<table border=\"1\" class=\"dataframe\">\n",
              "  <thead>\n",
              "    <tr style=\"text-align: right;\">\n",
              "      <th></th>\n",
              "      <th>Factor1</th>\n",
              "      <th>Factor2</th>\n",
              "      <th>Factor3</th>\n",
              "      <th>Factor4</th>\n",
              "      <th>Factor5</th>\n",
              "    </tr>\n",
              "  </thead>\n",
              "  <tbody>\n",
              "    <tr>\n",
              "      <th>country</th>\n",
              "      <td>0.482340</td>\n",
              "      <td>-0.043903</td>\n",
              "      <td>0.130349</td>\n",
              "      <td>-0.151819</td>\n",
              "      <td>-0.274627</td>\n",
              "    </tr>\n",
              "    <tr>\n",
              "      <th>year</th>\n",
              "      <td>0.152867</td>\n",
              "      <td>-0.003430</td>\n",
              "      <td>0.032628</td>\n",
              "      <td>0.981873</td>\n",
              "      <td>0.082729</td>\n",
              "    </tr>\n",
              "    <tr>\n",
              "      <th>bank_account</th>\n",
              "      <td>-0.011602</td>\n",
              "      <td>0.077341</td>\n",
              "      <td>-0.051601</td>\n",
              "      <td>0.076196</td>\n",
              "      <td>0.507568</td>\n",
              "    </tr>\n",
              "    <tr>\n",
              "      <th>location_type</th>\n",
              "      <td>0.543869</td>\n",
              "      <td>-0.004078</td>\n",
              "      <td>-0.087728</td>\n",
              "      <td>0.124142</td>\n",
              "      <td>0.130767</td>\n",
              "    </tr>\n",
              "    <tr>\n",
              "      <th>cellphone_access</th>\n",
              "      <td>-0.172086</td>\n",
              "      <td>0.061498</td>\n",
              "      <td>0.137903</td>\n",
              "      <td>-0.068118</td>\n",
              "      <td>0.368046</td>\n",
              "    </tr>\n",
              "    <tr>\n",
              "      <th>household_size</th>\n",
              "      <td>-0.385452</td>\n",
              "      <td>-0.031146</td>\n",
              "      <td>0.266735</td>\n",
              "      <td>0.009533</td>\n",
              "      <td>-0.051164</td>\n",
              "    </tr>\n",
              "    <tr>\n",
              "      <th>respondent_age</th>\n",
              "      <td>-0.106653</td>\n",
              "      <td>0.104352</td>\n",
              "      <td>-0.584762</td>\n",
              "      <td>0.022449</td>\n",
              "      <td>-0.155247</td>\n",
              "    </tr>\n",
              "    <tr>\n",
              "      <th>gender_of_respondent</th>\n",
              "      <td>0.007120</td>\n",
              "      <td>0.985282</td>\n",
              "      <td>0.151226</td>\n",
              "      <td>-0.006319</td>\n",
              "      <td>0.071266</td>\n",
              "    </tr>\n",
              "    <tr>\n",
              "      <th>relationship_with_head</th>\n",
              "      <td>0.026806</td>\n",
              "      <td>-0.503740</td>\n",
              "      <td>0.238939</td>\n",
              "      <td>-0.003317</td>\n",
              "      <td>-0.110857</td>\n",
              "    </tr>\n",
              "    <tr>\n",
              "      <th>marital_status</th>\n",
              "      <td>0.103212</td>\n",
              "      <td>-0.012930</td>\n",
              "      <td>-0.389306</td>\n",
              "      <td>-0.022322</td>\n",
              "      <td>-0.041046</td>\n",
              "    </tr>\n",
              "    <tr>\n",
              "      <th>level_of_education</th>\n",
              "      <td>0.159432</td>\n",
              "      <td>0.025799</td>\n",
              "      <td>0.356936</td>\n",
              "      <td>0.071068</td>\n",
              "      <td>0.653784</td>\n",
              "    </tr>\n",
              "    <tr>\n",
              "      <th>type_of_job</th>\n",
              "      <td>0.666962</td>\n",
              "      <td>-0.025539</td>\n",
              "      <td>0.088356</td>\n",
              "      <td>0.155256</td>\n",
              "      <td>-0.141977</td>\n",
              "    </tr>\n",
              "  </tbody>\n",
              "</table>\n",
              "</div>"
            ],
            "text/plain": [
              "                         Factor1   Factor2   Factor3   Factor4   Factor5\n",
              "country                 0.482340 -0.043903  0.130349 -0.151819 -0.274627\n",
              "year                    0.152867 -0.003430  0.032628  0.981873  0.082729\n",
              "bank_account           -0.011602  0.077341 -0.051601  0.076196  0.507568\n",
              "location_type           0.543869 -0.004078 -0.087728  0.124142  0.130767\n",
              "cellphone_access       -0.172086  0.061498  0.137903 -0.068118  0.368046\n",
              "household_size         -0.385452 -0.031146  0.266735  0.009533 -0.051164\n",
              "respondent_age         -0.106653  0.104352 -0.584762  0.022449 -0.155247\n",
              "gender_of_respondent    0.007120  0.985282  0.151226 -0.006319  0.071266\n",
              "relationship_with_head  0.026806 -0.503740  0.238939 -0.003317 -0.110857\n",
              "marital_status          0.103212 -0.012930 -0.389306 -0.022322 -0.041046\n",
              "level_of_education      0.159432  0.025799  0.356936  0.071068  0.653784\n",
              "type_of_job             0.666962 -0.025539  0.088356  0.155256 -0.141977"
            ]
          },
          "metadata": {
            "tags": []
          },
          "execution_count": 182
        }
      ]
    },
    {
      "cell_type": "code",
      "metadata": {
        "id": "QIILA3eQ2vPi",
        "colab_type": "code",
        "colab": {
          "base_uri": "https://localhost:8080/",
          "height": 204
        },
        "outputId": "d0ef13e9-5245-4775-e0f3-bfc6a0030e4a"
      },
      "source": [
        "#Getting variance of each factors\n",
        "\n",
        "fa.get_factor_variance().T"
      ],
      "execution_count": 183,
      "outputs": [
        {
          "output_type": "execute_result",
          "data": {
            "text/html": [
              "<div>\n",
              "<style scoped>\n",
              "    .dataframe tbody tr th:only-of-type {\n",
              "        vertical-align: middle;\n",
              "    }\n",
              "\n",
              "    .dataframe tbody tr th {\n",
              "        vertical-align: top;\n",
              "    }\n",
              "\n",
              "    .dataframe thead th {\n",
              "        text-align: right;\n",
              "    }\n",
              "</style>\n",
              "<table border=\"1\" class=\"dataframe\">\n",
              "  <thead>\n",
              "    <tr style=\"text-align: right;\">\n",
              "      <th></th>\n",
              "      <th>SS Loadings</th>\n",
              "      <th>Proportion Var</th>\n",
              "      <th>Cumulative Var</th>\n",
              "    </tr>\n",
              "  </thead>\n",
              "  <tbody>\n",
              "    <tr>\n",
              "      <th>Factor1</th>\n",
              "      <td>1.223189</td>\n",
              "      <td>0.101932</td>\n",
              "      <td>0.101932</td>\n",
              "    </tr>\n",
              "    <tr>\n",
              "      <th>Factor2</th>\n",
              "      <td>1.249598</td>\n",
              "      <td>0.104133</td>\n",
              "      <td>0.206066</td>\n",
              "    </tr>\n",
              "    <tr>\n",
              "      <th>Factor3</th>\n",
              "      <td>0.827255</td>\n",
              "      <td>0.068938</td>\n",
              "      <td>0.275004</td>\n",
              "    </tr>\n",
              "    <tr>\n",
              "      <th>Factor4</th>\n",
              "      <td>1.043279</td>\n",
              "      <td>0.086940</td>\n",
              "      <td>0.361943</td>\n",
              "    </tr>\n",
              "    <tr>\n",
              "      <th>Factor5</th>\n",
              "      <td>0.985811</td>\n",
              "      <td>0.082151</td>\n",
              "      <td>0.444094</td>\n",
              "    </tr>\n",
              "  </tbody>\n",
              "</table>\n",
              "</div>"
            ],
            "text/plain": [
              "         SS Loadings  Proportion Var  Cumulative Var\n",
              "Factor1     1.223189        0.101932        0.101932\n",
              "Factor2     1.249598        0.104133        0.206066\n",
              "Factor3     0.827255        0.068938        0.275004\n",
              "Factor4     1.043279        0.086940        0.361943\n",
              "Factor5     0.985811        0.082151        0.444094"
            ]
          },
          "metadata": {
            "tags": []
          },
          "execution_count": 183
        }
      ]
    },
    {
      "cell_type": "markdown",
      "metadata": {
        "id": "z0_I2VCw3XjA",
        "colab_type": "text"
      },
      "source": [
        "# Modeling"
      ]
    },
    {
      "cell_type": "code",
      "metadata": {
        "id": "v3lT6LqR3hM_",
        "colab_type": "code",
        "colab": {
          "base_uri": "https://localhost:8080/",
          "height": 224
        },
        "outputId": "673e89a9-aa8f-46c7-ea30-23fb99dfd87d"
      },
      "source": [
        "africa_financials.head()"
      ],
      "execution_count": 184,
      "outputs": [
        {
          "output_type": "execute_result",
          "data": {
            "text/html": [
              "<div>\n",
              "<style scoped>\n",
              "    .dataframe tbody tr th:only-of-type {\n",
              "        vertical-align: middle;\n",
              "    }\n",
              "\n",
              "    .dataframe tbody tr th {\n",
              "        vertical-align: top;\n",
              "    }\n",
              "\n",
              "    .dataframe thead th {\n",
              "        text-align: right;\n",
              "    }\n",
              "</style>\n",
              "<table border=\"1\" class=\"dataframe\">\n",
              "  <thead>\n",
              "    <tr style=\"text-align: right;\">\n",
              "      <th></th>\n",
              "      <th>country</th>\n",
              "      <th>year</th>\n",
              "      <th>bank_account</th>\n",
              "      <th>location_type</th>\n",
              "      <th>cellphone_access</th>\n",
              "      <th>household_size</th>\n",
              "      <th>respondent_age</th>\n",
              "      <th>gender_of_respondent</th>\n",
              "      <th>relationship_with_head</th>\n",
              "      <th>marital_status</th>\n",
              "      <th>level_of_education</th>\n",
              "      <th>type_of_job</th>\n",
              "    </tr>\n",
              "  </thead>\n",
              "  <tbody>\n",
              "    <tr>\n",
              "      <th>0</th>\n",
              "      <td>0</td>\n",
              "      <td>2018</td>\n",
              "      <td>1</td>\n",
              "      <td>0</td>\n",
              "      <td>1</td>\n",
              "      <td>3.0</td>\n",
              "      <td>24.0</td>\n",
              "      <td>0</td>\n",
              "      <td>5</td>\n",
              "      <td>2</td>\n",
              "      <td>4</td>\n",
              "      <td>9</td>\n",
              "    </tr>\n",
              "    <tr>\n",
              "      <th>1</th>\n",
              "      <td>0</td>\n",
              "      <td>2018</td>\n",
              "      <td>0</td>\n",
              "      <td>0</td>\n",
              "      <td>0</td>\n",
              "      <td>5.0</td>\n",
              "      <td>70.0</td>\n",
              "      <td>0</td>\n",
              "      <td>1</td>\n",
              "      <td>4</td>\n",
              "      <td>1</td>\n",
              "      <td>4</td>\n",
              "    </tr>\n",
              "    <tr>\n",
              "      <th>2</th>\n",
              "      <td>0</td>\n",
              "      <td>2018</td>\n",
              "      <td>1</td>\n",
              "      <td>1</td>\n",
              "      <td>1</td>\n",
              "      <td>5.0</td>\n",
              "      <td>26.0</td>\n",
              "      <td>1</td>\n",
              "      <td>3</td>\n",
              "      <td>3</td>\n",
              "      <td>6</td>\n",
              "      <td>9</td>\n",
              "    </tr>\n",
              "    <tr>\n",
              "      <th>3</th>\n",
              "      <td>0</td>\n",
              "      <td>2018</td>\n",
              "      <td>0</td>\n",
              "      <td>0</td>\n",
              "      <td>1</td>\n",
              "      <td>5.0</td>\n",
              "      <td>34.0</td>\n",
              "      <td>0</td>\n",
              "      <td>1</td>\n",
              "      <td>2</td>\n",
              "      <td>3</td>\n",
              "      <td>3</td>\n",
              "    </tr>\n",
              "    <tr>\n",
              "      <th>4</th>\n",
              "      <td>0</td>\n",
              "      <td>2018</td>\n",
              "      <td>0</td>\n",
              "      <td>1</td>\n",
              "      <td>0</td>\n",
              "      <td>8.0</td>\n",
              "      <td>26.0</td>\n",
              "      <td>1</td>\n",
              "      <td>0</td>\n",
              "      <td>3</td>\n",
              "      <td>3</td>\n",
              "      <td>5</td>\n",
              "    </tr>\n",
              "  </tbody>\n",
              "</table>\n",
              "</div>"
            ],
            "text/plain": [
              "   country  year  bank_account  ...  marital_status  level_of_education  type_of_job\n",
              "0        0  2018             1  ...               2                   4            9\n",
              "1        0  2018             0  ...               4                   1            4\n",
              "2        0  2018             1  ...               3                   6            9\n",
              "3        0  2018             0  ...               2                   3            3\n",
              "4        0  2018             0  ...               3                   3            5\n",
              "\n",
              "[5 rows x 12 columns]"
            ]
          },
          "metadata": {
            "tags": []
          },
          "execution_count": 184
        }
      ]
    },
    {
      "cell_type": "code",
      "metadata": {
        "id": "x9tdx-vP3jfd",
        "colab_type": "code",
        "colab": {
          "base_uri": "https://localhost:8080/",
          "height": 238
        },
        "outputId": "fcfc836f-101d-495d-e772-b99d321a4344"
      },
      "source": [
        "africa_financials.dtypes"
      ],
      "execution_count": 185,
      "outputs": [
        {
          "output_type": "execute_result",
          "data": {
            "text/plain": [
              "country                     int64\n",
              "year                        int64\n",
              "bank_account                int64\n",
              "location_type               int64\n",
              "cellphone_access            int64\n",
              "household_size            float64\n",
              "respondent_age            float64\n",
              "gender_of_respondent        int64\n",
              "relationship_with_head      int64\n",
              "marital_status              int64\n",
              "level_of_education          int64\n",
              "type_of_job                 int64\n",
              "dtype: object"
            ]
          },
          "metadata": {
            "tags": []
          },
          "execution_count": 185
        }
      ]
    },
    {
      "cell_type": "code",
      "metadata": {
        "id": "9e-xha7oGaZ1",
        "colab_type": "code",
        "colab": {
          "base_uri": "https://localhost:8080/",
          "height": 51
        },
        "outputId": "fba75dc4-4fb4-44db-ea2a-73ba3326661e"
      },
      "source": [
        "%load_ext autoreload\n",
        "%autoreload 2"
      ],
      "execution_count": 186,
      "outputs": [
        {
          "output_type": "stream",
          "text": [
            "The autoreload extension is already loaded. To reload it, use:\n",
            "  %reload_ext autoreload\n"
          ],
          "name": "stdout"
        }
      ]
    },
    {
      "cell_type": "code",
      "metadata": {
        "id": "MHwyd5RDLSGV",
        "colab_type": "code",
        "colab": {}
      },
      "source": [
        "X = africa_financials.drop('bank_account', 1)\n",
        "y = africa_financials['bank_account']"
      ],
      "execution_count": 187,
      "outputs": []
    },
    {
      "cell_type": "code",
      "metadata": {
        "id": "CSsVYgrGMLha",
        "colab_type": "code",
        "colab": {}
      },
      "source": [
        "from sklearn.model_selection import train_test_split\n",
        "\n",
        "X_train, X_test, y_train, y_test = train_test_split(X, y, test_size=0.2, random_state=0)"
      ],
      "execution_count": 188,
      "outputs": []
    },
    {
      "cell_type": "code",
      "metadata": {
        "id": "pGG3Zp7GNcLD",
        "colab_type": "code",
        "colab": {
          "base_uri": "https://localhost:8080/",
          "height": 34
        },
        "outputId": "ba9a624a-4618-47c2-d262-bb947eb6f386"
      },
      "source": [
        "from sklearn.ensemble import RandomForestClassifier\n",
        "\n",
        "rd = RandomForestClassifier(n_estimators=500)\n",
        "rd.fit(X_train, y_train)\n",
        "RdForestperfmce = round(rd.score(X_train, y_train) * 100, 2)\n",
        "print(\"Accuracy with Random Forest : {}\".format(RdForestperfmce))"
      ],
      "execution_count": 189,
      "outputs": [
        {
          "output_type": "stream",
          "text": [
            "Accuracy with Random Forest : 98.03\n"
          ],
          "name": "stdout"
        }
      ]
    },
    {
      "cell_type": "markdown",
      "metadata": {
        "id": "SZbIAdTVOWMz",
        "colab_type": "text"
      },
      "source": [
        "From the above we have made a model that can predict with 98.03 accurracy if an individual will have a bank account or not "
      ]
    },
    {
      "cell_type": "markdown",
      "metadata": {
        "id": "kqGSLQ4xPJze",
        "colab_type": "text"
      },
      "source": [
        "I dont understand alot in this .... I am just but a biginner ...But i will sure revisit this to correct my mistakes and maybe improve the model"
      ]
    }
  ]
}